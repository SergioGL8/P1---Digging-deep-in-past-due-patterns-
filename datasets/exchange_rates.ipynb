{
 "cells": [
  {
   "cell_type": "code",
   "execution_count": 1,
   "metadata": {},
   "outputs": [],
   "source": [
    "import json\n",
    "import requests\n",
    "import pandas as pd\n",
    "from config import app_id"
   ]
  },
  {
   "cell_type": "code",
   "execution_count": 15,
   "metadata": {},
   "outputs": [],
   "source": [
    "months = [\"01-31\", \"02-28\", \"03-31\", \"04-30\", \"05-31\", \"06-30\", \"07-31\", \"08-31\", \"09-30\", \"10-31\", \n",
    "         \"11-30\", \"12-31\"]\n",
    "years = [\"2012\", \"2013\", \"2014\", \"2015\", \"2016\", \"2017\", \"2018\", \"2019\", \"2020\"]"
   ]
  },
  {
   "cell_type": "code",
   "execution_count": 35,
   "metadata": {},
   "outputs": [],
   "source": [
    "dates = []\n",
    "exhange_rate_mxn = []\n",
    "exhange_rate_crc = []\n",
    "exhange_rate_cop = []\n",
    "exhange_rate_gtq = []\n",
    "for year in years:\n",
    "    for month in months:\n",
    "            date = year + \"-\" + month\n",
    "            if date != \"2020-09-30\" and date != \"2020-10-31\" and date != \"2020-11-30\" and date != \"2020-12-31\":\n",
    "                url = \"https://openexchangerates.org/api/historical/\" + date + \".json?app_id=\"\n",
    "                response = requests.get(url + app_id)\n",
    "                data = response.json()\n",
    "                dates.append(date)\n",
    "                exhange_rate_mxn.append(data['rates']['MXN'])\n",
    "                exhange_rate_crc.append(data['rates']['CRC'])\n",
    "                exhange_rate_cop.append(data['rates']['COP'])\n",
    "                exhange_rate_gtq.append(data['rates']['GTQ'])\n",
    "        "
   ]
  },
  {
   "cell_type": "code",
   "execution_count": 45,
   "metadata": {},
   "outputs": [
    {
     "data": {
      "text/html": [
       "<div>\n",
       "<style scoped>\n",
       "    .dataframe tbody tr th:only-of-type {\n",
       "        vertical-align: middle;\n",
       "    }\n",
       "\n",
       "    .dataframe tbody tr th {\n",
       "        vertical-align: top;\n",
       "    }\n",
       "\n",
       "    .dataframe thead th {\n",
       "        text-align: right;\n",
       "    }\n",
       "</style>\n",
       "<table border=\"1\" class=\"dataframe\">\n",
       "  <thead>\n",
       "    <tr style=\"text-align: right;\">\n",
       "      <th></th>\n",
       "      <th>Date</th>\n",
       "      <th>Exhange Rate</th>\n",
       "    </tr>\n",
       "  </thead>\n",
       "  <tbody>\n",
       "    <tr>\n",
       "      <th>0</th>\n",
       "      <td>2012-01-31</td>\n",
       "      <td>12.980045</td>\n",
       "    </tr>\n",
       "    <tr>\n",
       "      <th>1</th>\n",
       "      <td>2012-02-28</td>\n",
       "      <td>12.840447</td>\n",
       "    </tr>\n",
       "    <tr>\n",
       "      <th>2</th>\n",
       "      <td>2012-03-31</td>\n",
       "      <td>12.710813</td>\n",
       "    </tr>\n",
       "    <tr>\n",
       "      <th>3</th>\n",
       "      <td>2012-04-30</td>\n",
       "      <td>12.993272</td>\n",
       "    </tr>\n",
       "    <tr>\n",
       "      <th>4</th>\n",
       "      <td>2012-05-31</td>\n",
       "      <td>14.241763</td>\n",
       "    </tr>\n",
       "  </tbody>\n",
       "</table>\n",
       "</div>"
      ],
      "text/plain": [
       "         Date  Exhange Rate\n",
       "0  2012-01-31     12.980045\n",
       "1  2012-02-28     12.840447\n",
       "2  2012-03-31     12.710813\n",
       "3  2012-04-30     12.993272\n",
       "4  2012-05-31     14.241763"
      ]
     },
     "execution_count": 45,
     "metadata": {},
     "output_type": "execute_result"
    }
   ],
   "source": [
    "exhange_rates_df = pd.DataFrame(dates,columns=['Date'])\n",
    "exhange_rates_df['MXN Exhange Rate'] = exhange_rate_mxn\n",
    "exhange_rates_df['CRC Exhange Rate'] = exhange_rate_crc\n",
    "exhange_rates_df['COP Exhange Rate'] = exhange_rate_cop\n",
    "exhange_rates_df['GTQ Exhange Rate'] = exhange_rate_gtq\n",
    "\n",
    "exhange_rates_df.head()"
   ]
  },
  {
   "cell_type": "code",
   "execution_count": 46,
   "metadata": {},
   "outputs": [],
   "source": [
    "output_exchange_rates_exc = \"output/exchange_rates.xlsx\"\n",
    "output_exchange_rates_csv = \"output/exchange_rates.csv\"\n",
    "\n",
    "exhange_rates_df.to_csv(output_exchange_rates_csv)\n",
    "exhange_rates_df.to_excel(output_exchange_rates_exc)"
   ]
  }
 ],
 "metadata": {
  "kernelspec": {
   "display_name": "Python 3",
   "language": "python",
   "name": "python3"
  },
  "language_info": {
   "codemirror_mode": {
    "name": "ipython",
    "version": 3
   },
   "file_extension": ".py",
   "mimetype": "text/x-python",
   "name": "python",
   "nbconvert_exporter": "python",
   "pygments_lexer": "ipython3",
   "version": "3.7.6"
  }
 },
 "nbformat": 4,
 "nbformat_minor": 4
}
