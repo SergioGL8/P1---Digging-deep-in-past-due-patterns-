{
 "cells": [
  {
   "cell_type": "code",
   "execution_count": 4,
   "metadata": {},
   "outputs": [
    {
     "data": {
      "text/plain": [
       "['Past Due Resumen Hoja Por Cuenta Apr 2019.xlsx',\n",
       " 'Past Due Resumen Hoja Por Cuenta Aug 2019.xlsx',\n",
       " 'Past Due Resumen Hoja Por Cuenta Dec 2019.xlsx',\n",
       " 'Past Due Resumen Hoja Por Cuenta Feb 2019.xlsx',\n",
       " 'Past Due Resumen Hoja Por Cuenta Jan 2019.xlsx',\n",
       " 'Past Due Resumen Hoja Por Cuenta Jul 2019.xlsx',\n",
       " 'Past Due Resumen Hoja Por Cuenta Jun 2019.xlsx',\n",
       " 'Past Due Resumen Hoja Por Cuenta Mar 2019.xlsx',\n",
       " 'Past Due Resumen Hoja Por Cuenta May 2019.xlsx',\n",
       " 'Past Due Resumen Hoja Por Cuenta Nov 2019.xlsx',\n",
       " 'Past Due Resumen Hoja Por Cuenta Oct 2019.xlsx',\n",
       " 'Past Due Resumen Hoja Por Cuenta Sep 2019.xlsx']"
      ]
     },
     "execution_count": 4,
     "metadata": {},
     "output_type": "execute_result"
    }
   ],
   "source": [
    "import numpy as np\n",
    "import os\n",
    "import pandas as pd\n",
    "import glob\n",
    "\n",
    "#path = \"Past Due Resumen Hoja Por Cuenta Jan 2019.xlsx\"\n",
    "\n",
    "#data = pd.read_excel(path, sheet_name='PORT', skiprows=5)\n",
    "\n",
    "#data.head()\n",
    "\n",
    "path = \"input/\"\n",
    "input_files = os.listdir(path)\n",
    "input_files\n",
    "\n",
    "input_files_xlsx = [f for f in input_files if f[-4:] == \"xlsx\"]\n",
    "input_files_xlsx\n",
    "\n",
    "data2019 = pd.DataFrame()\n",
    "\n",
    "for f in files_xlsx:\n",
    "    data = pd.read_excel(f, sheet_name='PORT', skiprows=5)\n",
    "    data2019 = data2019.append(data)\n",
    "    \n",
    "data2019"
   ]
  },
  {
   "cell_type": "code",
   "execution_count": 17,
   "metadata": {},
   "outputs": [],
   "source": [
    "output_data_exc = \"output/data2019.xlsx\"\n",
    "output_data_csv = \"output/data2019.csv\"\n",
    "\n",
    "data2019.to_csv(output_data_csv)\n",
    "data2019.to_excel(output_data_exc)"
   ]
  },
  {
   "cell_type": "code",
   "execution_count": null,
   "metadata": {},
   "outputs": [],
   "source": []
  }
 ],
 "metadata": {
  "kernelspec": {
   "display_name": "Python 3",
   "language": "python",
   "name": "python3"
  },
  "language_info": {
   "codemirror_mode": {
    "name": "ipython",
    "version": 3
   },
   "file_extension": ".py",
   "mimetype": "text/x-python",
   "name": "python",
   "nbconvert_exporter": "python",
   "pygments_lexer": "ipython3",
   "version": "3.8.3"
  }
 },
 "nbformat": 4,
 "nbformat_minor": 4
}
