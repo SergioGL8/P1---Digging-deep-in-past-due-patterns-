{
 "cells": [
  {
   "cell_type": "code",
   "execution_count": 2,
   "metadata": {},
   "outputs": [],
   "source": [
    "import os\n",
    "import pandas as pd\n",
    "\n",
    "# Merge excel files\n",
    "path = \"output/data_merged.xlsx\"\n",
    "\n",
    "dataset_df = pd.read_excel(path)"
   ]
  },
  {
   "cell_type": "code",
   "execution_count": 3,
   "metadata": {
    "scrolled": true
   },
   "outputs": [
    {
     "data": {
      "text/html": [
       "<div>\n",
       "<style scoped>\n",
       "    .dataframe tbody tr th:only-of-type {\n",
       "        vertical-align: middle;\n",
       "    }\n",
       "\n",
       "    .dataframe tbody tr th {\n",
       "        vertical-align: top;\n",
       "    }\n",
       "\n",
       "    .dataframe thead th {\n",
       "        text-align: right;\n",
       "    }\n",
       "</style>\n",
       "<table border=\"1\" class=\"dataframe\">\n",
       "  <thead>\n",
       "    <tr style=\"text-align: right;\">\n",
       "      <th></th>\n",
       "      <th>Unnamed: 0</th>\n",
       "      <th>CCAN</th>\n",
       "      <th>DATE</th>\n",
       "      <th>Status</th>\n",
       "      <th>TOT NET</th>\n",
       "      <th>Net Investment</th>\n",
       "      <th>31-60</th>\n",
       "      <th>61-90</th>\n",
       "      <th>91-120</th>\n",
       "      <th>120+</th>\n",
       "      <th>Past Due</th>\n",
       "      <th>Aging</th>\n",
       "      <th>Country</th>\n",
       "      <th>NA</th>\n",
       "      <th>NA2</th>\n",
       "      <th>NA3</th>\n",
       "    </tr>\n",
       "  </thead>\n",
       "  <tbody>\n",
       "    <tr>\n",
       "      <th>0</th>\n",
       "      <td>0</td>\n",
       "      <td>320023</td>\n",
       "      <td>2016-01-01</td>\n",
       "      <td>LEGAL</td>\n",
       "      <td>1.534098e+09</td>\n",
       "      <td>15555962.86</td>\n",
       "      <td>0</td>\n",
       "      <td>0</td>\n",
       "      <td>0.00</td>\n",
       "      <td>1.5556e+07</td>\n",
       "      <td>15555962.86</td>\n",
       "      <td>120+</td>\n",
       "      <td>MEXICO</td>\n",
       "      <td>NaN</td>\n",
       "      <td>NaN</td>\n",
       "      <td>NaN</td>\n",
       "    </tr>\n",
       "    <tr>\n",
       "      <th>1</th>\n",
       "      <td>1</td>\n",
       "      <td>315112</td>\n",
       "      <td>2016-01-01</td>\n",
       "      <td>LEGAL</td>\n",
       "      <td>1.534098e+09</td>\n",
       "      <td>3265682.10</td>\n",
       "      <td>0</td>\n",
       "      <td>0</td>\n",
       "      <td>0.00</td>\n",
       "      <td>3.26568e+06</td>\n",
       "      <td>3265682.10</td>\n",
       "      <td>120+</td>\n",
       "      <td>MEXICO</td>\n",
       "      <td>NaN</td>\n",
       "      <td>NaN</td>\n",
       "      <td>NaN</td>\n",
       "    </tr>\n",
       "    <tr>\n",
       "      <th>2</th>\n",
       "      <td>2</td>\n",
       "      <td>309348</td>\n",
       "      <td>2016-01-01</td>\n",
       "      <td>REGULAR</td>\n",
       "      <td>1.534098e+09</td>\n",
       "      <td>3006305.90</td>\n",
       "      <td>0</td>\n",
       "      <td>356160</td>\n",
       "      <td>1678580.73</td>\n",
       "      <td>971565</td>\n",
       "      <td>3006305.90</td>\n",
       "      <td>120+</td>\n",
       "      <td>COSTA RICA</td>\n",
       "      <td>NaN</td>\n",
       "      <td>NaN</td>\n",
       "      <td>NaN</td>\n",
       "    </tr>\n",
       "    <tr>\n",
       "      <th>3</th>\n",
       "      <td>3</td>\n",
       "      <td>320248</td>\n",
       "      <td>2016-01-01</td>\n",
       "      <td>REGULAR</td>\n",
       "      <td>1.534098e+09</td>\n",
       "      <td>2874745.56</td>\n",
       "      <td>0</td>\n",
       "      <td>1.19118e+06</td>\n",
       "      <td>1683563.78</td>\n",
       "      <td>0</td>\n",
       "      <td>2874745.56</td>\n",
       "      <td>91-120</td>\n",
       "      <td>MEXICO</td>\n",
       "      <td>NaN</td>\n",
       "      <td>NaN</td>\n",
       "      <td>NaN</td>\n",
       "    </tr>\n",
       "    <tr>\n",
       "      <th>4</th>\n",
       "      <td>4</td>\n",
       "      <td>308247</td>\n",
       "      <td>2016-01-01</td>\n",
       "      <td>REGULAR</td>\n",
       "      <td>1.534098e+09</td>\n",
       "      <td>2556572.66</td>\n",
       "      <td>729814</td>\n",
       "      <td>0</td>\n",
       "      <td>1826758.77</td>\n",
       "      <td>0</td>\n",
       "      <td>2556572.66</td>\n",
       "      <td>91-120</td>\n",
       "      <td>GUATEMALA</td>\n",
       "      <td>NaN</td>\n",
       "      <td>NaN</td>\n",
       "      <td>NaN</td>\n",
       "    </tr>\n",
       "  </tbody>\n",
       "</table>\n",
       "</div>"
      ],
      "text/plain": [
       "   Unnamed: 0    CCAN       DATE   Status       TOT NET  Net Investment  \\\n",
       "0           0  320023 2016-01-01    LEGAL  1.534098e+09     15555962.86   \n",
       "1           1  315112 2016-01-01    LEGAL  1.534098e+09      3265682.10   \n",
       "2           2  309348 2016-01-01  REGULAR  1.534098e+09      3006305.90   \n",
       "3           3  320248 2016-01-01  REGULAR  1.534098e+09      2874745.56   \n",
       "4           4  308247 2016-01-01  REGULAR  1.534098e+09      2556572.66   \n",
       "\n",
       "    31-60        61-90      91-120         120+     Past Due   Aging  \\\n",
       "0       0            0        0.00   1.5556e+07  15555962.86    120+   \n",
       "1       0            0        0.00  3.26568e+06   3265682.10    120+   \n",
       "2       0       356160  1678580.73       971565   3006305.90    120+   \n",
       "3       0  1.19118e+06  1683563.78            0   2874745.56  91-120   \n",
       "4  729814            0  1826758.77            0   2556572.66  91-120   \n",
       "\n",
       "      Country   NA  NA2  NA3  \n",
       "0      MEXICO  NaN  NaN  NaN  \n",
       "1      MEXICO  NaN  NaN  NaN  \n",
       "2  COSTA RICA  NaN  NaN  NaN  \n",
       "3      MEXICO  NaN  NaN  NaN  \n",
       "4   GUATEMALA  NaN  NaN  NaN  "
      ]
     },
     "execution_count": 3,
     "metadata": {},
     "output_type": "execute_result"
    }
   ],
   "source": [
    "dataset_df.head()\n"
   ]
  },
  {
   "cell_type": "code",
   "execution_count": 4,
   "metadata": {
    "scrolled": true
   },
   "outputs": [
    {
     "data": {
      "text/plain": [
       "CCAN              140236\n",
       "DATE              140237\n",
       "Status            140234\n",
       "TOT NET           140237\n",
       "Net Investment    140237\n",
       "31-60             124334\n",
       "61-90             124324\n",
       "91-120            124308\n",
       "120+              124330\n",
       "Past Due          125019\n",
       "Aging             124909\n",
       "Country           140237\n",
       "dtype: int64"
      ]
     },
     "execution_count": 4,
     "metadata": {},
     "output_type": "execute_result"
    }
   ],
   "source": [
    "data_df = dataset_df[['CCAN', 'DATE', 'Status', 'TOT NET', 'Net Investment', '31-60', '61-90', '91-120', '120+', 'Past Due', 'Aging', 'Country']]\n",
    "\n",
    "count_data = data_df.count()\n",
    "\n",
    "count_data"
   ]
  },
  {
   "cell_type": "code",
   "execution_count": 5,
   "metadata": {},
   "outputs": [
    {
     "data": {
      "text/plain": [
       "CCAN              140236\n",
       "DATE              140236\n",
       "Status            140233\n",
       "TOT NET           140236\n",
       "Net Investment    140236\n",
       "31-60             124334\n",
       "61-90             124324\n",
       "91-120            124308\n",
       "120+              124330\n",
       "Past Due          125019\n",
       "Aging             124908\n",
       "Country           140236\n",
       "dtype: int64"
      ]
     },
     "execution_count": 5,
     "metadata": {},
     "output_type": "execute_result"
    }
   ],
   "source": [
    "data_df = data_df.dropna(subset=['CCAN'])\n",
    "\n",
    "count_data = data_df.count()\n",
    "\n",
    "count_data\n",
    "                "
   ]
  },
  {
   "cell_type": "code",
   "execution_count": 6,
   "metadata": {},
   "outputs": [
    {
     "data": {
      "text/plain": [
       "array(['LEGAL', 'REGULAR', nan, 'LEGAL  '], dtype=object)"
      ]
     },
     "execution_count": 6,
     "metadata": {},
     "output_type": "execute_result"
    }
   ],
   "source": [
    "data_df['Status'].unique()"
   ]
  },
  {
   "cell_type": "code",
   "execution_count": 7,
   "metadata": {},
   "outputs": [],
   "source": [
    "data_df['Status'] = data_df['Status'].replace({'LEGAL  ': 'LEGAL'})"
   ]
  },
  {
   "cell_type": "code",
   "execution_count": 8,
   "metadata": {
    "scrolled": true
   },
   "outputs": [
    {
     "data": {
      "text/plain": [
       "array(['LEGAL', 'REGULAR'], dtype=object)"
      ]
     },
     "execution_count": 8,
     "metadata": {},
     "output_type": "execute_result"
    }
   ],
   "source": [
    "data_df['Status'] = data_df['Status'].fillna('REGULAR')\n",
    "\n",
    "data_df['Status'].unique()"
   ]
  },
  {
   "cell_type": "code",
   "execution_count": 9,
   "metadata": {},
   "outputs": [
    {
     "data": {
      "text/plain": [
       "CCAN              140236\n",
       "DATE              140236\n",
       "Status            140236\n",
       "TOT NET           140236\n",
       "Net Investment    140236\n",
       "31-60             124334\n",
       "61-90             124324\n",
       "91-120            124308\n",
       "120+              124330\n",
       "Past Due          125019\n",
       "Aging             124908\n",
       "Country           140236\n",
       "dtype: int64"
      ]
     },
     "execution_count": 9,
     "metadata": {},
     "output_type": "execute_result"
    }
   ],
   "source": [
    "count_data = data_df.count()\n",
    "\n",
    "count_data"
   ]
  },
  {
   "cell_type": "code",
   "execution_count": 10,
   "metadata": {},
   "outputs": [
    {
     "data": {
      "text/plain": [
       "CCAN                      object\n",
       "DATE              datetime64[ns]\n",
       "Status                    object\n",
       "TOT NET                  float64\n",
       "Net Investment           float64\n",
       "31-60                     object\n",
       "61-90                     object\n",
       "91-120                   float64\n",
       "120+                      object\n",
       "Past Due                 float64\n",
       "Aging                     object\n",
       "Country                   object\n",
       "dtype: object"
      ]
     },
     "execution_count": 10,
     "metadata": {},
     "output_type": "execute_result"
    }
   ],
   "source": [
    "data_df.dtypes"
   ]
  },
  {
   "cell_type": "code",
   "execution_count": 11,
   "metadata": {
    "scrolled": true
   },
   "outputs": [],
   "source": [
    "data_df['31-60'] = data_df['31-60'].replace({'X': 0, 'x': 0})"
   ]
  },
  {
   "cell_type": "code",
   "execution_count": 12,
   "metadata": {},
   "outputs": [],
   "source": [
    "data_df['61-90'] = data_df['61-90'].replace({'X': 0, 'x': 0})"
   ]
  },
  {
   "cell_type": "code",
   "execution_count": 13,
   "metadata": {},
   "outputs": [],
   "source": [
    "data_df['120+'] = data_df['120+'].replace({'X': 0, 'x': 0})"
   ]
  },
  {
   "cell_type": "code",
   "execution_count": 14,
   "metadata": {},
   "outputs": [
    {
     "data": {
      "text/plain": [
       "CCAN                      object\n",
       "DATE              datetime64[ns]\n",
       "Status                    object\n",
       "TOT NET                  float64\n",
       "Net Investment           float64\n",
       "31-60                    float64\n",
       "61-90                    float64\n",
       "91-120                   float64\n",
       "120+                     float64\n",
       "Past Due                 float64\n",
       "Aging                     object\n",
       "Country                   object\n",
       "dtype: object"
      ]
     },
     "execution_count": 14,
     "metadata": {},
     "output_type": "execute_result"
    }
   ],
   "source": [
    "data_df.dtypes"
   ]
  },
  {
   "cell_type": "code",
   "execution_count": 15,
   "metadata": {
    "scrolled": true
   },
   "outputs": [
    {
     "data": {
      "text/plain": [
       "CCAN              140236\n",
       "DATE              140236\n",
       "Status            140236\n",
       "TOT NET           140236\n",
       "Net Investment    140236\n",
       "31-60             124334\n",
       "61-90             124324\n",
       "91-120            124308\n",
       "120+              124330\n",
       "Past Due          125019\n",
       "Aging             124908\n",
       "Country           140236\n",
       "dtype: int64"
      ]
     },
     "execution_count": 15,
     "metadata": {},
     "output_type": "execute_result"
    }
   ],
   "source": [
    "data_df.count()"
   ]
  },
  {
   "cell_type": "code",
   "execution_count": 16,
   "metadata": {},
   "outputs": [],
   "source": [
    "data_df['31-60'] = data_df['31-60'].fillna(0)"
   ]
  },
  {
   "cell_type": "code",
   "execution_count": 17,
   "metadata": {},
   "outputs": [],
   "source": [
    "data_df['61-90'] = data_df['61-90'].fillna(0)"
   ]
  },
  {
   "cell_type": "code",
   "execution_count": 18,
   "metadata": {},
   "outputs": [],
   "source": [
    "data_df['91-120'] = data_df['91-120'].fillna(0)"
   ]
  },
  {
   "cell_type": "code",
   "execution_count": 19,
   "metadata": {},
   "outputs": [],
   "source": [
    "data_df['120+'] = data_df['120+'].fillna(0)"
   ]
  },
  {
   "cell_type": "code",
   "execution_count": 20,
   "metadata": {
    "scrolled": false
   },
   "outputs": [],
   "source": [
    "data_df['Past Due'] = data_df['Past Due'].fillna(data_df['31-60'] + data_df['61-90'] + data_df['91-120'] + data_df['120+'])"
   ]
  },
  {
   "cell_type": "code",
   "execution_count": 21,
   "metadata": {
    "scrolled": true
   },
   "outputs": [
    {
     "data": {
      "text/plain": [
       "CCAN              140236\n",
       "DATE              140236\n",
       "Status            140236\n",
       "TOT NET           140236\n",
       "Net Investment    140236\n",
       "31-60             140236\n",
       "61-90             140236\n",
       "91-120            140236\n",
       "120+              140236\n",
       "Past Due          140236\n",
       "Aging             124908\n",
       "Country           140236\n",
       "dtype: int64"
      ]
     },
     "execution_count": 21,
     "metadata": {},
     "output_type": "execute_result"
    }
   ],
   "source": [
    "data_df.count()"
   ]
  },
  {
   "cell_type": "code",
   "execution_count": 22,
   "metadata": {},
   "outputs": [
    {
     "data": {
      "text/plain": [
       "array(['120+', '91-120', '31-60', '61-90', '1-30', nan, '121+'],\n",
       "      dtype=object)"
      ]
     },
     "execution_count": 22,
     "metadata": {},
     "output_type": "execute_result"
    }
   ],
   "source": [
    "data_df['Aging'].unique()"
   ]
  },
  {
   "cell_type": "code",
   "execution_count": 23,
   "metadata": {},
   "outputs": [
    {
     "data": {
      "text/plain": [
       "array(['120+', '91-120', '31-60', '61-90', '1-30', '121+'], dtype=object)"
      ]
     },
     "execution_count": 23,
     "metadata": {},
     "output_type": "execute_result"
    }
   ],
   "source": [
    "data_df['Aging'] = data_df['Aging'].fillna('1-30')\n",
    "\n",
    "data_df['Aging'].unique()"
   ]
  },
  {
   "cell_type": "code",
   "execution_count": 24,
   "metadata": {},
   "outputs": [
    {
     "data": {
      "text/plain": [
       "array(['120+', '91-120', '31-60', '61-90', '1-30'], dtype=object)"
      ]
     },
     "execution_count": 24,
     "metadata": {},
     "output_type": "execute_result"
    }
   ],
   "source": [
    "data_df['Aging'] = data_df['Aging'].replace({'121+': '120+'})\n",
    "\n",
    "data_df['Aging'].unique()"
   ]
  },
  {
   "cell_type": "code",
   "execution_count": 25,
   "metadata": {},
   "outputs": [
    {
     "data": {
      "text/plain": [
       "CCAN              140236\n",
       "DATE              140236\n",
       "Status            140236\n",
       "TOT NET           140236\n",
       "Net Investment    140236\n",
       "31-60             140236\n",
       "61-90             140236\n",
       "91-120            140236\n",
       "120+              140236\n",
       "Past Due          140236\n",
       "Aging             140236\n",
       "Country           140236\n",
       "dtype: int64"
      ]
     },
     "execution_count": 25,
     "metadata": {},
     "output_type": "execute_result"
    }
   ],
   "source": [
    "data_df.count()"
   ]
  },
  {
   "cell_type": "code",
   "execution_count": 29,
   "metadata": {
    "scrolled": false
   },
   "outputs": [
    {
     "data": {
      "text/plain": [
       "CCAN                      object\n",
       "DATE              datetime64[ns]\n",
       "Status                    object\n",
       "TOT NET                  float64\n",
       "Net Investment           float64\n",
       "31-60                    float64\n",
       "61-90                    float64\n",
       "91-120                   float64\n",
       "120+                     float64\n",
       "Past Due                 float64\n",
       "Aging                     object\n",
       "Country                   object\n",
       "dtype: object"
      ]
     },
     "execution_count": 29,
     "metadata": {},
     "output_type": "execute_result"
    }
   ],
   "source": [
    "data_df.dtypes"
   ]
  },
  {
   "cell_type": "code",
   "execution_count": 32,
   "metadata": {},
   "outputs": [
    {
     "data": {
      "text/plain": [
       "array(['MEXICO', 'COSTA RICA', 'GUATEMALA', 'REPUBLICA DOMINICANA',\n",
       "       'ECUADOR', 'PANAMA', 'NICARAGUA', 'COLOMBIA', 'EL SALVADOR',\n",
       "       'PUERTO RICO', 'HONDURAS', 'BELICE', 'SURINAME', 'HAITI',\n",
       "       'JAMAICA', 'ANTILLAS PAISES BAJOS', 'TRINIDAD Y TOBAGO',\n",
       "       'VENEZUELA', 'HO', 'BAHAMAS', 'R-82', 'GUYANA'], dtype=object)"
      ]
     },
     "execution_count": 32,
     "metadata": {},
     "output_type": "execute_result"
    }
   ],
   "source": [
    "data_df['Country'].unique()"
   ]
  },
  {
   "cell_type": "code",
   "execution_count": 33,
   "metadata": {},
   "outputs": [
    {
     "data": {
      "text/plain": [
       "array(['MEXICO', 'COSTA RICA', 'GUATEMALA', 'REPUBLICA DOMINICANA',\n",
       "       'ECUADOR', 'PANAMA', 'NICARAGUA', 'COLOMBIA', 'EL SALVADOR',\n",
       "       'PUERTO RICO', 'HONDURAS', 'BELICE', 'SURINAME', 'HAITI',\n",
       "       'JAMAICA', 'ANTILLAS PAISES BAJOS', 'TRINIDAD Y TOBAGO',\n",
       "       'VENEZUELA', 'BAHAMAS', 'GUYANA'], dtype=object)"
      ]
     },
     "execution_count": 33,
     "metadata": {},
     "output_type": "execute_result"
    }
   ],
   "source": [
    "data_df['Country'] = data_df['Country'].replace({'HO': 'HONDURAS', 'R-82': 'VENEZUELA'})\n",
    "data_df['Country'].unique()"
   ]
  },
  {
   "cell_type": "code",
   "execution_count": 41,
   "metadata": {
    "scrolled": false
   },
   "outputs": [
    {
     "data": {
      "text/plain": [
       "CCAN                      object\n",
       "DATE              datetime64[ns]\n",
       "Status                    object\n",
       "TOT NET                  float64\n",
       "Net Investment           float64\n",
       "31-60                    float64\n",
       "61-90                    float64\n",
       "91-120                   float64\n",
       "120+                     float64\n",
       "Past Due                 float64\n",
       "Aging                     object\n",
       "Country                   object\n",
       "dtype: object"
      ]
     },
     "execution_count": 41,
     "metadata": {},
     "output_type": "execute_result"
    }
   ],
   "source": [
    "data_df['CCAN'] = data_df['CCAN'].astype('|S')\n",
    "data_df.dtypes"
   ]
  },
  {
   "cell_type": "code",
   "execution_count": 42,
   "metadata": {},
   "outputs": [],
   "source": [
    "output_data_exc = \"output/data_cleaned.xlsx\"\n",
    "output_data_csv = \"output/data_cleaned.csv\"\n",
    "\n",
    "data_df.to_csv(output_data_csv)\n",
    "data_df.to_excel(output_data_exc)"
   ]
  },
  {
   "cell_type": "code",
   "execution_count": null,
   "metadata": {},
   "outputs": [],
   "source": []
  }
 ],
 "metadata": {
  "kernelspec": {
   "display_name": "Python 3",
   "language": "python",
   "name": "python3"
  },
  "language_info": {
   "codemirror_mode": {
    "name": "ipython",
    "version": 3
   },
   "file_extension": ".py",
   "mimetype": "text/x-python",
   "name": "python",
   "nbconvert_exporter": "python",
   "pygments_lexer": "ipython3",
   "version": "3.8.3"
  }
 },
 "nbformat": 4,
 "nbformat_minor": 4
}
