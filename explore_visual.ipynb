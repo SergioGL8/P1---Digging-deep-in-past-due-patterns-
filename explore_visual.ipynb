{
 "cells": [
  {
   "cell_type": "code",
   "execution_count": 1,
   "metadata": {},
   "outputs": [],
   "source": [
    "import os\n",
    "import matplotlib\n",
    "import numpy as np\n",
    "import pandas as pd\n",
    "import matplotlib.pyplot as plt\n",
    "from scipy.stats import linregress\n",
    "import matplotlib.patches as mpatches\n",
    "\n",
    "# Merge excel files\n",
    "path = \"datasets/output/data_cleaned.xlsx\"\n",
    "\n",
    "dataset_df = pd.read_excel(path)"
   ]
  },
  {
   "cell_type": "code",
   "execution_count": 2,
   "metadata": {
    "scrolled": false
   },
   "outputs": [
    {
     "data": {
      "text/plain": [
       "CCAN              140236\n",
       "DATE              140236\n",
       "Status            140236\n",
       "TOT NET           140236\n",
       "Net Investment    140236\n",
       "31-60             140236\n",
       "61-90             140236\n",
       "91-120            140236\n",
       "120+              140236\n",
       "Past Due          140236\n",
       "Aging             140236\n",
       "Country           140236\n",
       "dtype: int64"
      ]
     },
     "execution_count": 2,
     "metadata": {},
     "output_type": "execute_result"
    }
   ],
   "source": [
    "dataset_df = dataset_df[['CCAN', 'DATE', 'Status', 'TOT NET', 'Net Investment', '31-60', '61-90', '91-120', '120+', 'Past Due', 'Aging', 'Country']]\n",
    "\n",
    "dataset_df.count()"
   ]
  },
  {
   "cell_type": "code",
   "execution_count": 3,
   "metadata": {},
   "outputs": [
    {
     "data": {
      "text/html": [
       "<div>\n",
       "<style scoped>\n",
       "    .dataframe tbody tr th:only-of-type {\n",
       "        vertical-align: middle;\n",
       "    }\n",
       "\n",
       "    .dataframe tbody tr th {\n",
       "        vertical-align: top;\n",
       "    }\n",
       "\n",
       "    .dataframe thead th {\n",
       "        text-align: right;\n",
       "    }\n",
       "</style>\n",
       "<table border=\"1\" class=\"dataframe\">\n",
       "  <thead>\n",
       "    <tr style=\"text-align: right;\">\n",
       "      <th></th>\n",
       "      <th>CCAN</th>\n",
       "      <th>DATE</th>\n",
       "      <th>Status</th>\n",
       "      <th>TOT NET</th>\n",
       "      <th>Net Investment</th>\n",
       "      <th>31-60</th>\n",
       "      <th>61-90</th>\n",
       "      <th>91-120</th>\n",
       "      <th>120+</th>\n",
       "      <th>Past Due</th>\n",
       "      <th>Aging</th>\n",
       "      <th>Country</th>\n",
       "      <th>Past Due AVG MLN</th>\n",
       "      <th>Net Investment AVG MLN</th>\n",
       "      <th>Year</th>\n",
       "      <th>Past Due MLN</th>\n",
       "      <th>TOT NET MLN</th>\n",
       "      <th>Net Investment AVG YEAR MLN</th>\n",
       "    </tr>\n",
       "  </thead>\n",
       "  <tbody>\n",
       "    <tr>\n",
       "      <th>0</th>\n",
       "      <td>320023</td>\n",
       "      <td>2016-01-31</td>\n",
       "      <td>LEGAL</td>\n",
       "      <td>1.534098e+09</td>\n",
       "      <td>15555962.86</td>\n",
       "      <td>0.00</td>\n",
       "      <td>0.00</td>\n",
       "      <td>0.00</td>\n",
       "      <td>15555962.86</td>\n",
       "      <td>15555962.86</td>\n",
       "      <td>120+</td>\n",
       "      <td>MEXICO</td>\n",
       "      <td>0.20</td>\n",
       "      <td>0.20</td>\n",
       "      <td>2016</td>\n",
       "      <td>15.56</td>\n",
       "      <td>1534.1</td>\n",
       "      <td>1.30</td>\n",
       "    </tr>\n",
       "    <tr>\n",
       "      <th>1</th>\n",
       "      <td>315112</td>\n",
       "      <td>2016-01-31</td>\n",
       "      <td>LEGAL</td>\n",
       "      <td>1.534098e+09</td>\n",
       "      <td>3265682.10</td>\n",
       "      <td>0.00</td>\n",
       "      <td>0.00</td>\n",
       "      <td>0.00</td>\n",
       "      <td>3265682.10</td>\n",
       "      <td>3265682.10</td>\n",
       "      <td>120+</td>\n",
       "      <td>MEXICO</td>\n",
       "      <td>0.04</td>\n",
       "      <td>0.04</td>\n",
       "      <td>2016</td>\n",
       "      <td>3.27</td>\n",
       "      <td>1534.1</td>\n",
       "      <td>0.27</td>\n",
       "    </tr>\n",
       "    <tr>\n",
       "      <th>2</th>\n",
       "      <td>309348</td>\n",
       "      <td>2016-01-31</td>\n",
       "      <td>REGULAR</td>\n",
       "      <td>1.534098e+09</td>\n",
       "      <td>3006305.90</td>\n",
       "      <td>0.00</td>\n",
       "      <td>356160.13</td>\n",
       "      <td>1678580.73</td>\n",
       "      <td>971565.04</td>\n",
       "      <td>3006305.90</td>\n",
       "      <td>120+</td>\n",
       "      <td>COSTA RICA</td>\n",
       "      <td>0.04</td>\n",
       "      <td>0.04</td>\n",
       "      <td>2016</td>\n",
       "      <td>3.01</td>\n",
       "      <td>1534.1</td>\n",
       "      <td>0.25</td>\n",
       "    </tr>\n",
       "    <tr>\n",
       "      <th>3</th>\n",
       "      <td>320248</td>\n",
       "      <td>2016-01-31</td>\n",
       "      <td>REGULAR</td>\n",
       "      <td>1.534098e+09</td>\n",
       "      <td>2874745.56</td>\n",
       "      <td>0.00</td>\n",
       "      <td>1191181.78</td>\n",
       "      <td>1683563.78</td>\n",
       "      <td>0.00</td>\n",
       "      <td>2874745.56</td>\n",
       "      <td>91-120</td>\n",
       "      <td>MEXICO</td>\n",
       "      <td>0.04</td>\n",
       "      <td>0.04</td>\n",
       "      <td>2016</td>\n",
       "      <td>2.87</td>\n",
       "      <td>1534.1</td>\n",
       "      <td>0.24</td>\n",
       "    </tr>\n",
       "    <tr>\n",
       "      <th>4</th>\n",
       "      <td>308247</td>\n",
       "      <td>2016-01-31</td>\n",
       "      <td>REGULAR</td>\n",
       "      <td>1.534098e+09</td>\n",
       "      <td>2556572.66</td>\n",
       "      <td>729813.89</td>\n",
       "      <td>0.00</td>\n",
       "      <td>1826758.77</td>\n",
       "      <td>0.00</td>\n",
       "      <td>2556572.66</td>\n",
       "      <td>91-120</td>\n",
       "      <td>GUATEMALA</td>\n",
       "      <td>0.03</td>\n",
       "      <td>0.03</td>\n",
       "      <td>2016</td>\n",
       "      <td>2.56</td>\n",
       "      <td>1534.1</td>\n",
       "      <td>0.21</td>\n",
       "    </tr>\n",
       "  </tbody>\n",
       "</table>\n",
       "</div>"
      ],
      "text/plain": [
       "     CCAN       DATE   Status       TOT NET  Net Investment      31-60  \\\n",
       "0  320023 2016-01-31    LEGAL  1.534098e+09     15555962.86       0.00   \n",
       "1  315112 2016-01-31    LEGAL  1.534098e+09      3265682.10       0.00   \n",
       "2  309348 2016-01-31  REGULAR  1.534098e+09      3006305.90       0.00   \n",
       "3  320248 2016-01-31  REGULAR  1.534098e+09      2874745.56       0.00   \n",
       "4  308247 2016-01-31  REGULAR  1.534098e+09      2556572.66  729813.89   \n",
       "\n",
       "        61-90      91-120         120+     Past Due   Aging     Country  \\\n",
       "0        0.00        0.00  15555962.86  15555962.86    120+      MEXICO   \n",
       "1        0.00        0.00   3265682.10   3265682.10    120+      MEXICO   \n",
       "2   356160.13  1678580.73    971565.04   3006305.90    120+  COSTA RICA   \n",
       "3  1191181.78  1683563.78         0.00   2874745.56  91-120      MEXICO   \n",
       "4        0.00  1826758.77         0.00   2556572.66  91-120   GUATEMALA   \n",
       "\n",
       "   Past Due AVG MLN  Net Investment AVG MLN  Year  Past Due MLN  TOT NET MLN  \\\n",
       "0              0.20                    0.20  2016         15.56       1534.1   \n",
       "1              0.04                    0.04  2016          3.27       1534.1   \n",
       "2              0.04                    0.04  2016          3.01       1534.1   \n",
       "3              0.04                    0.04  2016          2.87       1534.1   \n",
       "4              0.03                    0.03  2016          2.56       1534.1   \n",
       "\n",
       "   Net Investment AVG YEAR MLN  \n",
       "0                         1.30  \n",
       "1                         0.27  \n",
       "2                         0.25  \n",
       "3                         0.24  \n",
       "4                         0.21  "
      ]
     },
     "execution_count": 3,
     "metadata": {},
     "output_type": "execute_result"
    }
   ],
   "source": [
    "# Count number of months as input\n",
    "input_files = os.listdir(\"datasets/input/\")\n",
    "input_count = len(input_files)\n",
    "\n",
    "# Create average per month past due and in millions per month\n",
    "extended_dataset_df = dataset_df\n",
    "extended_dataset_df[\"Past Due AVG MLN\"] = round(extended_dataset_df[\"Past Due\"] / input_count / 1000000, 2)\n",
    "extended_dataset_df[\"Net Investment AVG MLN\"] = round(extended_dataset_df[\"Net Investment\"] / input_count / 1000000, 2)\n",
    "extended_dataset_df[\"Year\"] = pd.DatetimeIndex(extended_dataset_df['DATE']).year\n",
    "extended_dataset_df[\"Past Due MLN\"] = round(extended_dataset_df[\"Past Due\"] / 1000000, 2)\n",
    "extended_dataset_df[\"TOT NET MLN\"] = round(extended_dataset_df[\"TOT NET\"] / 1000000, 2)\n",
    "extended_dataset_df[\"Net Investment AVG YEAR MLN\"] = round(extended_dataset_df[\"Net Investment\"] / 12 / 1000000, 2)\n",
    "\n",
    "extended_dataset_df.head()"
   ]
  },
  {
   "cell_type": "code",
   "execution_count": 4,
   "metadata": {
    "scrolled": false
   },
   "outputs": [
    {
     "data": {
      "image/png": "[encoded data removed]",
      "text/plain": [
       "<Figure size 432x288 with 1 Axes>"
      ]
     },
     "metadata": {
      "needs_background": "light"
     },
     "output_type": "display_data"
    }
   ],
   "source": [
    "# Calculate average Past Due in million USD per month per country\n",
    "country_count = extended_dataset_df.groupby([\"Country\"])[\"Past Due AVG MLN\"].sum()\n",
    "\n",
    "# Plot bar graph\n",
    "country_count = country_count.sort_values(ascending=False)\n",
    "country_count.plot(kind=\"bar\", facecolor=\"red\")\n",
    "\n",
    "plt.ylabel(\"Past Due (in million USD)\")\n",
    "plt.xlabel(\"Country\")\n",
    "plt.title(\"Average Past Due (in million USD) per Month per Country\")\n",
    "plt.show()"
   ]
  },
  {
   "cell_type": "code",
   "execution_count": 5,
   "metadata": {
    "scrolled": false
   },
   "outputs": [
    {
     "data": {
      "image/png": "[encoded data removed]",
      "text/plain": [
       "<Figure size 432x288 with 1 Axes>"
      ]
     },
     "metadata": {
      "needs_background": "light"
     },
     "output_type": "display_data"
    }
   ],
   "source": [
    "# Get dataset without Mexico and Venezuela\n",
    "ext_dat_nomx_df = extended_dataset_df.loc[(extended_dataset_df[\"Country\"] != 'MEXICO')].dropna()\n",
    "ext_dat_nomx_df = ext_dat_nomx_df.loc[(ext_dat_nomx_df[\"Country\"] != 'VENEZUELA')].dropna()\n",
    "\n",
    "# Calculate average Past Due in USD per month per country\n",
    "country_count2 = ext_dat_nomx_df.groupby([\"Country\"])[\"Past Due AVG MLN\"].sum()\n",
    "country_count2 = country_count2.sort_values(ascending=False)\n",
    "country_count2.plot(kind=\"bar\", facecolor=\"red\")\n",
    "\n",
    "plt.ylabel(\"Past Due (in million USD)\")\n",
    "plt.xlabel(\"Country\")\n",
    "plt.title(\"Average Past Due (in million USD) per Month per Country (without MX & VE)\")\n",
    "plt.show()                                        \n",
    "                                          "
   ]
  },
  {
   "cell_type": "code",
   "execution_count": 6,
   "metadata": {
    "scrolled": false
   },
   "outputs": [],
   "source": [
    "def year_overview(yearyear):\n",
    "    year_df = extended_dataset_df.loc[(extended_dataset_df[\"Year\"] == yearyear)].dropna()\n",
    "    # Group by customer\n",
    "    customer_gbdf = year_df.groupby(['CCAN'])\n",
    "    #customer_gbdf = extended_dataset_df.groupby(['CCAN'])\n",
    "\n",
    "    #customer_gbdf = customer_gbdf[['CCAN', 'Net Investment AVG MLN']]\n",
    "\n",
    "    # Past Due Count\n",
    "    cust_pd_count = customer_gbdf['Net Investment AVG YEAR MLN'].sum()\n",
    "    cust_country = customer_gbdf['Country'].unique().str[0]\n",
    "\n",
    "    #summary table\n",
    "    sum_cust_pd_df = pd.DataFrame({\n",
    "            \"Net Investment AVG MLN\":cust_pd_count,\n",
    "            \"Country\":cust_country})\n",
    "    sum_cust_pd_df.index.name=\"CCAN\"\n",
    "\n",
    "    sum_cust_pd_df = sum_cust_pd_df.reset_index()\n",
    "    # Filter top four countries out of DF\n",
    "    sum_cust_pd_df = sum_cust_pd_df.loc[((sum_cust_pd_df[\"Country\"] == 'MEXICO') | (sum_cust_pd_df[\"Country\"] == 'VENEZUELA')\n",
    "                                         | (sum_cust_pd_df[\"Country\"] == 'COSTA RICA') | (sum_cust_pd_df[\"Country\"] == 'PANAMA')\n",
    "                                        )].dropna()\n",
    "\n",
    "\n",
    "    # get dataframe sorted by life Expectancy in each continent \n",
    "    top_net_inv = sum_cust_pd_df.groupby([\"Country\"]).apply(lambda x: x.sort_values([\"Net Investment AVG MLN\"], ascending = False)).reset_index(drop=True)\n",
    "    # select top N rows within each continent\n",
    "    n_clients = 2\n",
    "    top_net_inv = top_net_inv.groupby('Country').head(n_clients)\n",
    "    #number = year\n",
    "    \n",
    "    objects = top_net_inv['CCAN']\n",
    "    x_value = np.arange(len(objects))\n",
    "    performance = top_net_inv['Net Investment AVG MLN']\n",
    "\n",
    "    # plot bar\n",
    "    plt.bar(x_value, performance, align='center', color=('#FFC30F', '#FFC30F', '#FF5733', '#FF5733', \n",
    "                                                         '#c70039', '#c70039', '#581845', '#581845'))\n",
    "    plt.xticks(x_value, objects)\n",
    "\n",
    "    col1 = mpatches.Patch(color='#FFC30F', label='Costa Rica')\n",
    "    col2 = mpatches.Patch(color='#FF5733', label='Mexico')\n",
    "    col3 = mpatches.Patch(color='#c70039', label='Panama')\n",
    "    col4 = mpatches.Patch(color='#581845', label='Venezuela')\n",
    "\n",
    "    plt.legend(handles=[col1, col2, col3, col4])\n",
    "    plt.xlabel('CCAN')\n",
    "    plt.ylabel('Net Investment per month (in million USD)')\n",
    "    plt.title('Top 2 clients in Net Inv Avg (mln USD) per top 4 country in ' + str(yearyear))\n",
    "\n",
    "    return plt.show(), print(top_net_inv)\n",
    "    "
   ]
  },
  {
   "cell_type": "code",
   "execution_count": 7,
   "metadata": {
    "scrolled": false
   },
   "outputs": [
    {
     "data": {
      "image/png": "[encoded data removed]",
      "text/plain": [
       "<Figure size 432x288 with 1 Axes>"
      ]
     },
     "metadata": {
      "needs_background": "light"
     },
     "output_type": "display_data"
    },
    {
     "name": "stdout",
     "output_type": "stream",
     "text": [
      "        CCAN  Net Investment AVG MLN     Country\n",
      "0     314798                   31.49  COSTA RICA\n",
      "1     314376                   15.36  COSTA RICA\n",
      "190   309306                  104.88      MEXICO\n",
      "191   312097                   86.88      MEXICO\n",
      "1412  313740                   37.35      PANAMA\n",
      "1413  320134                   25.77      PANAMA\n",
      "1665  317746                   79.92   VENEZUELA\n"
     ]
    },
    {
     "data": {
      "text/plain": [
       "(None, None)"
      ]
     },
     "execution_count": 7,
     "metadata": {},
     "output_type": "execute_result"
    }
   ],
   "source": [
    "year_overview(2015)\n"
   ]
  },
  {
   "cell_type": "code",
   "execution_count": 8,
   "metadata": {
    "scrolled": false
   },
   "outputs": [
    {
     "data": {
      "image/png": "[encoded data removed]",
      "text/plain": [
       "<Figure size 432x288 with 1 Axes>"
      ]
     },
     "metadata": {
      "needs_background": "light"
     },
     "output_type": "display_data"
    },
    {
     "name": "stdout",
     "output_type": "stream",
     "text": [
      "        CCAN  Net Investment AVG MLN     Country\n",
      "0     314798                   23.86  COSTA RICA\n",
      "1     314376                   17.54  COSTA RICA\n",
      "260   309306                  257.28      MEXICO\n",
      "261   312097                   58.77      MEXICO\n",
      "1283  355935                   64.65      PANAMA\n",
      "1284  313731                   37.08      PANAMA\n",
      "1558  317746                   73.32   VENEZUELA\n",
      "1559    R-82                   35.73   VENEZUELA\n"
     ]
    },
    {
     "data": {
      "text/plain": [
       "(None, None)"
      ]
     },
     "execution_count": 8,
     "metadata": {},
     "output_type": "execute_result"
    }
   ],
   "source": [
    "year_overview(2019)"
   ]
  },
  {
   "cell_type": "code",
   "execution_count": 9,
   "metadata": {},
   "outputs": [
    {
     "data": {
      "text/html": [
       "<div>\n",
       "<style scoped>\n",
       "    .dataframe tbody tr th:only-of-type {\n",
       "        vertical-align: middle;\n",
       "    }\n",
       "\n",
       "    .dataframe tbody tr th {\n",
       "        vertical-align: top;\n",
       "    }\n",
       "\n",
       "    .dataframe thead th {\n",
       "        text-align: right;\n",
       "    }\n",
       "</style>\n",
       "<table border=\"1\" class=\"dataframe\">\n",
       "  <thead>\n",
       "    <tr style=\"text-align: right;\">\n",
       "      <th></th>\n",
       "      <th>Unnamed: 0</th>\n",
       "      <th>Date</th>\n",
       "      <th>Exhange Rate</th>\n",
       "    </tr>\n",
       "  </thead>\n",
       "  <tbody>\n",
       "    <tr>\n",
       "      <th>0</th>\n",
       "      <td>0</td>\n",
       "      <td>2012-01-31</td>\n",
       "      <td>12.980045</td>\n",
       "    </tr>\n",
       "    <tr>\n",
       "      <th>1</th>\n",
       "      <td>1</td>\n",
       "      <td>2012-02-28</td>\n",
       "      <td>12.840447</td>\n",
       "    </tr>\n",
       "    <tr>\n",
       "      <th>2</th>\n",
       "      <td>2</td>\n",
       "      <td>2012-03-31</td>\n",
       "      <td>12.710813</td>\n",
       "    </tr>\n",
       "    <tr>\n",
       "      <th>3</th>\n",
       "      <td>3</td>\n",
       "      <td>2012-04-30</td>\n",
       "      <td>12.993272</td>\n",
       "    </tr>\n",
       "    <tr>\n",
       "      <th>4</th>\n",
       "      <td>4</td>\n",
       "      <td>2012-05-31</td>\n",
       "      <td>14.241763</td>\n",
       "    </tr>\n",
       "    <tr>\n",
       "      <th>...</th>\n",
       "      <td>...</td>\n",
       "      <td>...</td>\n",
       "      <td>...</td>\n",
       "    </tr>\n",
       "    <tr>\n",
       "      <th>99</th>\n",
       "      <td>99</td>\n",
       "      <td>2020-04-30</td>\n",
       "      <td>24.230800</td>\n",
       "    </tr>\n",
       "    <tr>\n",
       "      <th>100</th>\n",
       "      <td>100</td>\n",
       "      <td>2020-05-31</td>\n",
       "      <td>22.185207</td>\n",
       "    </tr>\n",
       "    <tr>\n",
       "      <th>101</th>\n",
       "      <td>101</td>\n",
       "      <td>2020-06-30</td>\n",
       "      <td>23.019400</td>\n",
       "    </tr>\n",
       "    <tr>\n",
       "      <th>102</th>\n",
       "      <td>102</td>\n",
       "      <td>2020-07-31</td>\n",
       "      <td>22.283049</td>\n",
       "    </tr>\n",
       "    <tr>\n",
       "      <th>103</th>\n",
       "      <td>103</td>\n",
       "      <td>2020-08-31</td>\n",
       "      <td>21.916150</td>\n",
       "    </tr>\n",
       "  </tbody>\n",
       "</table>\n",
       "<p>104 rows × 3 columns</p>\n",
       "</div>"
      ],
      "text/plain": [
       "     Unnamed: 0        Date  Exhange Rate\n",
       "0             0  2012-01-31     12.980045\n",
       "1             1  2012-02-28     12.840447\n",
       "2             2  2012-03-31     12.710813\n",
       "3             3  2012-04-30     12.993272\n",
       "4             4  2012-05-31     14.241763\n",
       "..          ...         ...           ...\n",
       "99           99  2020-04-30     24.230800\n",
       "100         100  2020-05-31     22.185207\n",
       "101         101  2020-06-30     23.019400\n",
       "102         102  2020-07-31     22.283049\n",
       "103         103  2020-08-31     21.916150\n",
       "\n",
       "[104 rows x 3 columns]"
      ]
     },
     "execution_count": 9,
     "metadata": {},
     "output_type": "execute_result"
    }
   ],
   "source": [
    "path1 = \"datasets/output/exchange_rates.csv\"\n",
    "exchange_rates_df = pd.read_csv(path1)\n",
    "exchange_rates_df"
   ]
  },
  {
   "cell_type": "code",
   "execution_count": 10,
   "metadata": {},
   "outputs": [
    {
     "name": "stdout",
     "output_type": "stream",
     "text": [
      "            Total Past Due  Total Net  Past Due Rate\n",
      "DATE                                                \n",
      "2014-04-30          212.32    1475.27       0.143919\n",
      "2014-05-31           74.57    1586.63       0.046999\n",
      "2014-06-30           94.45    1525.45       0.061916\n",
      "2014-07-31           86.18    1597.91       0.053933\n",
      "2014-08-31          105.76    1535.10       0.068895\n",
      "...                    ...        ...            ...\n",
      "2020-03-31          144.86    1144.26       0.126597\n",
      "2020-04-30          148.14    1136.23       0.130379\n",
      "2020-05-31          163.84    1159.34       0.141322\n",
      "2020-06-30          158.56    1183.65       0.133959\n",
      "2020-07-31          150.98    1166.09       0.129475\n",
      "\n",
      "[76 rows x 3 columns]\n"
     ]
    },
    {
     "data": {
      "text/plain": [
       "[<matplotlib.lines.Line2D at 0x7ffebfbfc7d0>]"
      ]
     },
     "execution_count": 10,
     "metadata": {},
     "output_type": "execute_result"
    },
    {
     "data": {
      "image/png": "[encoded data removed]",
      "text/plain": [
       "<Figure size 432x288 with 1 Axes>"
      ]
     },
     "metadata": {
      "needs_background": "light"
     },
     "output_type": "display_data"
    }
   ],
   "source": [
    "new_extended_dataset_df = extended_dataset_df.groupby(['DATE'])\n",
    "#print(new_extended_dataset_df)\n",
    "sum_past_due = new_extended_dataset_df['Past Due MLN'].sum()\n",
    "total_net = new_extended_dataset_df['TOT NET MLN'].unique().str[0]\n",
    "past_due_index = pd.DataFrame({\n",
    "    \"Total Past Due\": sum_past_due,\n",
    "    \"Total Net\": total_net,\n",
    "    \"Past Due Rate\": sum_past_due / total_net\n",
    "    \n",
    "})\n",
    "print(past_due_index )\n",
    "\n",
    "y = past_due_index['Past Due Rate']\n",
    "x = past_due_index.index\n",
    "plt.plot(x,y)\n"
   ]
  },
  {
   "cell_type": "code",
   "execution_count": 15,
   "metadata": {},
   "outputs": [
    {
     "name": "stdout",
     "output_type": "stream",
     "text": [
      "            Total Past Due  Total Net  Past Due Rate\n",
      "DATE                                                \n",
      "2014-04-30          156.46    1475.27       0.106055\n",
      "2014-05-31           41.35    1586.63       0.026062\n",
      "2014-06-30           67.29    1525.45       0.044112\n",
      "2014-07-31           41.83    1597.91       0.026178\n",
      "2014-08-31           53.35    1535.10       0.034753\n",
      "...                    ...        ...            ...\n",
      "2020-03-31           34.29    1144.26       0.029967\n",
      "2020-04-30           31.93    1136.23       0.028102\n",
      "2020-05-31           37.25    1159.34       0.032130\n",
      "2020-06-30           33.37    1183.65       0.028192\n",
      "2020-07-31           29.85    1166.09       0.025598\n",
      "\n",
      "[76 rows x 3 columns]\n"
     ]
    },
    {
     "data": {
      "text/plain": [
       "[<matplotlib.lines.Line2D at 0x7ffebc4032d0>]"
      ]
     },
     "execution_count": 15,
     "metadata": {},
     "output_type": "execute_result"
    },
    {
     "data": {
      "image/png": "[encoded data removed]",
      "text/plain": [
       "<Figure size 432x288 with 1 Axes>"
      ]
     },
     "metadata": {
      "needs_background": "light"
     },
     "output_type": "display_data"
    }
   ],
   "source": [
    "mexico_df = extended_dataset_df.loc[(extended_dataset_df[\"Country\"] == 'MEXICO')]\n",
    "mexico_extended_dataset_df = mexico_df.groupby(['DATE'])\n",
    "\n",
    "#print(new_extended_dataset_df)\n",
    "sum_past_due_mx = mexico_extended_dataset_df['Past Due MLN'].sum()\n",
    "total_net_mx = mexico_extended_dataset_df['TOT NET MLN'].unique().str[0]\n",
    "past_due_index_mx = pd.DataFrame({\n",
    "    \"Total Past Due\": sum_past_due_mx,\n",
    "    \"Total Net\": total_net_mx,\n",
    "    \"Past Due Rate\": sum_past_due_mx / total_net_mx\n",
    "    \n",
    "})\n",
    "print(past_due_index_mx )\n",
    "\n",
    "y = past_due_index_mx['Past Due Rate']\n",
    "x = past_due_index_mx.index\n",
    "plt.plot(x,y)"
   ]
  },
  {
   "cell_type": "markdown",
   "metadata": {},
   "source": [
    "### Past Due Rate vs. USD to MXN Exchange Rate"
   ]
  },
  {
   "cell_type": "code",
   "execution_count": 11,
   "metadata": {},
   "outputs": [
    {
     "data": {
      "text/html": [
       "<div>\n",
       "<style scoped>\n",
       "    .dataframe tbody tr th:only-of-type {\n",
       "        vertical-align: middle;\n",
       "    }\n",
       "\n",
       "    .dataframe tbody tr th {\n",
       "        vertical-align: top;\n",
       "    }\n",
       "\n",
       "    .dataframe thead th {\n",
       "        text-align: right;\n",
       "    }\n",
       "</style>\n",
       "<table border=\"1\" class=\"dataframe\">\n",
       "  <thead>\n",
       "    <tr style=\"text-align: right;\">\n",
       "      <th></th>\n",
       "      <th>Date</th>\n",
       "      <th>Total Past Due</th>\n",
       "      <th>Total Net</th>\n",
       "      <th>Past Due Rate</th>\n",
       "    </tr>\n",
       "  </thead>\n",
       "  <tbody>\n",
       "    <tr>\n",
       "      <th>0</th>\n",
       "      <td>2014-04</td>\n",
       "      <td>212.32</td>\n",
       "      <td>1475.27</td>\n",
       "      <td>0.143919</td>\n",
       "    </tr>\n",
       "    <tr>\n",
       "      <th>1</th>\n",
       "      <td>2014-05</td>\n",
       "      <td>74.57</td>\n",
       "      <td>1586.63</td>\n",
       "      <td>0.046999</td>\n",
       "    </tr>\n",
       "    <tr>\n",
       "      <th>2</th>\n",
       "      <td>2014-06</td>\n",
       "      <td>94.45</td>\n",
       "      <td>1525.45</td>\n",
       "      <td>0.061916</td>\n",
       "    </tr>\n",
       "    <tr>\n",
       "      <th>3</th>\n",
       "      <td>2014-07</td>\n",
       "      <td>86.18</td>\n",
       "      <td>1597.91</td>\n",
       "      <td>0.053933</td>\n",
       "    </tr>\n",
       "    <tr>\n",
       "      <th>4</th>\n",
       "      <td>2014-08</td>\n",
       "      <td>105.76</td>\n",
       "      <td>1535.10</td>\n",
       "      <td>0.068895</td>\n",
       "    </tr>\n",
       "  </tbody>\n",
       "</table>\n",
       "</div>"
      ],
      "text/plain": [
       "      Date  Total Past Due  Total Net  Past Due Rate\n",
       "0  2014-04          212.32    1475.27       0.143919\n",
       "1  2014-05           74.57    1586.63       0.046999\n",
       "2  2014-06           94.45    1525.45       0.061916\n",
       "3  2014-07           86.18    1597.91       0.053933\n",
       "4  2014-08          105.76    1535.10       0.068895"
      ]
     },
     "execution_count": 11,
     "metadata": {},
     "output_type": "execute_result"
    }
   ],
   "source": [
    "# Creating new column in DataFrame to include the USD to MEX Exchange Rate\n",
    "exc_pastdue_df = past_due_index\n",
    "exc_pastdue_df.reset_index(level=0, inplace=True)\n",
    "exc_pastdue_df.rename(columns = {'DATE':'Date'}, inplace = True)\n",
    "exc_pastdue_df['Date'] = exc_pastdue_df['Date'].astype(str)\n",
    "exc_pastdue_df['Date'] = exc_pastdue_df['Date'].str[:-3]\n",
    "\n",
    "exc_pastdue_df.head()"
   ]
  },
  {
   "cell_type": "code",
   "execution_count": 12,
   "metadata": {},
   "outputs": [
    {
     "data": {
      "text/html": [
       "<div>\n",
       "<style scoped>\n",
       "    .dataframe tbody tr th:only-of-type {\n",
       "        vertical-align: middle;\n",
       "    }\n",
       "\n",
       "    .dataframe tbody tr th {\n",
       "        vertical-align: top;\n",
       "    }\n",
       "\n",
       "    .dataframe thead th {\n",
       "        text-align: right;\n",
       "    }\n",
       "</style>\n",
       "<table border=\"1\" class=\"dataframe\">\n",
       "  <thead>\n",
       "    <tr style=\"text-align: right;\">\n",
       "      <th></th>\n",
       "      <th>Date</th>\n",
       "      <th>Exhange Rate</th>\n",
       "    </tr>\n",
       "  </thead>\n",
       "  <tbody>\n",
       "    <tr>\n",
       "      <th>0</th>\n",
       "      <td>2012-01</td>\n",
       "      <td>12.980045</td>\n",
       "    </tr>\n",
       "    <tr>\n",
       "      <th>1</th>\n",
       "      <td>2012-02</td>\n",
       "      <td>12.840447</td>\n",
       "    </tr>\n",
       "    <tr>\n",
       "      <th>2</th>\n",
       "      <td>2012-03</td>\n",
       "      <td>12.710813</td>\n",
       "    </tr>\n",
       "    <tr>\n",
       "      <th>3</th>\n",
       "      <td>2012-04</td>\n",
       "      <td>12.993272</td>\n",
       "    </tr>\n",
       "    <tr>\n",
       "      <th>4</th>\n",
       "      <td>2012-05</td>\n",
       "      <td>14.241763</td>\n",
       "    </tr>\n",
       "  </tbody>\n",
       "</table>\n",
       "</div>"
      ],
      "text/plain": [
       "      Date  Exhange Rate\n",
       "0  2012-01     12.980045\n",
       "1  2012-02     12.840447\n",
       "2  2012-03     12.710813\n",
       "3  2012-04     12.993272\n",
       "4  2012-05     14.241763"
      ]
     },
     "execution_count": 12,
     "metadata": {},
     "output_type": "execute_result"
    }
   ],
   "source": [
    "# Getting Exchange Rate data\n",
    "exchange_rate_path = \"datasets/output/exchange_rates.csv\"\n",
    "exchange_rate_df = pd.read_csv(exchange_rate_path)\n",
    "del exchange_rate_df['Unnamed: 0']\n",
    "exchange_rate_df['Date'] = exchange_rate_df['Date'].str[:-3]\n",
    "exchange_rate_df.head()"
   ]
  },
  {
   "cell_type": "code",
   "execution_count": 13,
   "metadata": {
    "scrolled": true
   },
   "outputs": [
    {
     "data": {
      "text/html": [
       "<div>\n",
       "<style scoped>\n",
       "    .dataframe tbody tr th:only-of-type {\n",
       "        vertical-align: middle;\n",
       "    }\n",
       "\n",
       "    .dataframe tbody tr th {\n",
       "        vertical-align: top;\n",
       "    }\n",
       "\n",
       "    .dataframe thead th {\n",
       "        text-align: right;\n",
       "    }\n",
       "</style>\n",
       "<table border=\"1\" class=\"dataframe\">\n",
       "  <thead>\n",
       "    <tr style=\"text-align: right;\">\n",
       "      <th></th>\n",
       "      <th>Date</th>\n",
       "      <th>Total Past Due</th>\n",
       "      <th>Total Net</th>\n",
       "      <th>Past Due Rate</th>\n",
       "      <th>Exhange Rate</th>\n",
       "    </tr>\n",
       "  </thead>\n",
       "  <tbody>\n",
       "    <tr>\n",
       "      <th>0</th>\n",
       "      <td>2014-04</td>\n",
       "      <td>212.32</td>\n",
       "      <td>1475.27</td>\n",
       "      <td>0.143919</td>\n",
       "      <td>13.08806</td>\n",
       "    </tr>\n",
       "    <tr>\n",
       "      <th>1</th>\n",
       "      <td>2014-05</td>\n",
       "      <td>74.57</td>\n",
       "      <td>1586.63</td>\n",
       "      <td>0.046999</td>\n",
       "      <td>12.85641</td>\n",
       "    </tr>\n",
       "    <tr>\n",
       "      <th>2</th>\n",
       "      <td>2014-06</td>\n",
       "      <td>94.45</td>\n",
       "      <td>1525.45</td>\n",
       "      <td>0.061916</td>\n",
       "      <td>12.97124</td>\n",
       "    </tr>\n",
       "    <tr>\n",
       "      <th>3</th>\n",
       "      <td>2014-07</td>\n",
       "      <td>86.18</td>\n",
       "      <td>1597.91</td>\n",
       "      <td>0.053933</td>\n",
       "      <td>13.19951</td>\n",
       "    </tr>\n",
       "    <tr>\n",
       "      <th>4</th>\n",
       "      <td>2014-08</td>\n",
       "      <td>105.76</td>\n",
       "      <td>1535.10</td>\n",
       "      <td>0.068895</td>\n",
       "      <td>13.07460</td>\n",
       "    </tr>\n",
       "  </tbody>\n",
       "</table>\n",
       "</div>"
      ],
      "text/plain": [
       "      Date  Total Past Due  Total Net  Past Due Rate  Exhange Rate\n",
       "0  2014-04          212.32    1475.27       0.143919      13.08806\n",
       "1  2014-05           74.57    1586.63       0.046999      12.85641\n",
       "2  2014-06           94.45    1525.45       0.061916      12.97124\n",
       "3  2014-07           86.18    1597.91       0.053933      13.19951\n",
       "4  2014-08          105.76    1535.10       0.068895      13.07460"
      ]
     },
     "execution_count": 13,
     "metadata": {},
     "output_type": "execute_result"
    }
   ],
   "source": [
    "# Merge both DataFrames\n",
    "exc_pastdue_df = exc_pastdue_df.merge(exchange_rate_df)\n",
    "exc_pastdue_df.head()"
   ]
  },
  {
   "cell_type": "code",
   "execution_count": 14,
   "metadata": {},
   "outputs": [
    {
     "name": "stdout",
     "output_type": "stream",
     "text": [
      "The r-squared is: 0.21536568886207363\n"
     ]
    },
    {
     "data": {
      "image/png": "[encoded data removed]",
      "text/plain": [
       "<Figure size 432x288 with 1 Axes>"
      ]
     },
     "metadata": {
      "needs_background": "light"
     },
     "output_type": "display_data"
    }
   ],
   "source": [
    "# Scatter plot\n",
    "x_values = exc_pastdue_df['Exhange Rate']\n",
    "y_values = exc_pastdue_df['Past Due Rate'] * 100\n",
    "\n",
    "(slope, intercept, rvalue, pvalue, stderr) = linregress(x_values, y_values)\n",
    "regress_values = x_values * slope + intercept\n",
    "line_eq = \"y = \" + str(round(slope,2)) + \"x + \" + str(round(intercept,2))\n",
    "print(f\"The r-squared is: {rvalue**2}\")\n",
    "plt.scatter(x_values,y_values, color='cornflowerblue', edgecolors='black')\n",
    "plt.plot(x_values,regress_values,\"r-\")\n",
    "plt.annotate(line_eq, (19, min(y_values)), fontsize=15, color=\"red\")\n",
    "plt.title('Past Due Rate vs. USD to MXN Exchange Rate')\n",
    "plt.xlabel('USD to MXN Exchange Rate')\n",
    "plt.ylabel('Past Due Rate (%)')\n",
    "plt.grid()\n",
    "plt.show()"
   ]
  },
  {
   "cell_type": "markdown",
   "metadata": {},
   "source": [
    "### Past Due Rate vs. USD to MXN Exchange Rate for Mexico"
   ]
  },
  {
   "cell_type": "code",
   "execution_count": 18,
   "metadata": {},
   "outputs": [
    {
     "data": {
      "text/html": [
       "<div>\n",
       "<style scoped>\n",
       "    .dataframe tbody tr th:only-of-type {\n",
       "        vertical-align: middle;\n",
       "    }\n",
       "\n",
       "    .dataframe tbody tr th {\n",
       "        vertical-align: top;\n",
       "    }\n",
       "\n",
       "    .dataframe thead th {\n",
       "        text-align: right;\n",
       "    }\n",
       "</style>\n",
       "<table border=\"1\" class=\"dataframe\">\n",
       "  <thead>\n",
       "    <tr style=\"text-align: right;\">\n",
       "      <th></th>\n",
       "      <th>Date</th>\n",
       "      <th>Total Past Due</th>\n",
       "      <th>Total Net</th>\n",
       "      <th>Past Due Rate</th>\n",
       "    </tr>\n",
       "  </thead>\n",
       "  <tbody>\n",
       "    <tr>\n",
       "      <th>0</th>\n",
       "      <td>2014-04</td>\n",
       "      <td>156.46</td>\n",
       "      <td>1475.27</td>\n",
       "      <td>0.106055</td>\n",
       "    </tr>\n",
       "    <tr>\n",
       "      <th>1</th>\n",
       "      <td>2014-05</td>\n",
       "      <td>41.35</td>\n",
       "      <td>1586.63</td>\n",
       "      <td>0.026062</td>\n",
       "    </tr>\n",
       "    <tr>\n",
       "      <th>2</th>\n",
       "      <td>2014-06</td>\n",
       "      <td>67.29</td>\n",
       "      <td>1525.45</td>\n",
       "      <td>0.044112</td>\n",
       "    </tr>\n",
       "    <tr>\n",
       "      <th>3</th>\n",
       "      <td>2014-07</td>\n",
       "      <td>41.83</td>\n",
       "      <td>1597.91</td>\n",
       "      <td>0.026178</td>\n",
       "    </tr>\n",
       "    <tr>\n",
       "      <th>4</th>\n",
       "      <td>2014-08</td>\n",
       "      <td>53.35</td>\n",
       "      <td>1535.10</td>\n",
       "      <td>0.034753</td>\n",
       "    </tr>\n",
       "  </tbody>\n",
       "</table>\n",
       "</div>"
      ],
      "text/plain": [
       "      Date  Total Past Due  Total Net  Past Due Rate\n",
       "0  2014-04          156.46    1475.27       0.106055\n",
       "1  2014-05           41.35    1586.63       0.026062\n",
       "2  2014-06           67.29    1525.45       0.044112\n",
       "3  2014-07           41.83    1597.91       0.026178\n",
       "4  2014-08           53.35    1535.10       0.034753"
      ]
     },
     "execution_count": 18,
     "metadata": {},
     "output_type": "execute_result"
    }
   ],
   "source": [
    "# Creating new column in DataFrame to include the USD to MEX Exchange Rate\n",
    "exc_pastdue_mx_df = past_due_index_mx\n",
    "exc_pastdue_mx_df.reset_index(level=0, inplace=True)\n",
    "exc_pastdue_mx_df.rename(columns = {'DATE':'Date'}, inplace = True)\n",
    "exc_pastdue_mx_df['Date'] = exc_pastdue_mx_df['Date'].astype(str)\n",
    "exc_pastdue_mx_df['Date'] = exc_pastdue_mx_df['Date'].str[:-3]\n",
    "\n",
    "exc_pastdue_mx_df.head()"
   ]
  },
  {
   "cell_type": "code",
   "execution_count": 19,
   "metadata": {},
   "outputs": [
    {
     "data": {
      "text/html": [
       "<div>\n",
       "<style scoped>\n",
       "    .dataframe tbody tr th:only-of-type {\n",
       "        vertical-align: middle;\n",
       "    }\n",
       "\n",
       "    .dataframe tbody tr th {\n",
       "        vertical-align: top;\n",
       "    }\n",
       "\n",
       "    .dataframe thead th {\n",
       "        text-align: right;\n",
       "    }\n",
       "</style>\n",
       "<table border=\"1\" class=\"dataframe\">\n",
       "  <thead>\n",
       "    <tr style=\"text-align: right;\">\n",
       "      <th></th>\n",
       "      <th>Date</th>\n",
       "      <th>Total Past Due</th>\n",
       "      <th>Total Net</th>\n",
       "      <th>Past Due Rate</th>\n",
       "      <th>Exhange Rate</th>\n",
       "    </tr>\n",
       "  </thead>\n",
       "  <tbody>\n",
       "    <tr>\n",
       "      <th>0</th>\n",
       "      <td>2014-04</td>\n",
       "      <td>156.46</td>\n",
       "      <td>1475.27</td>\n",
       "      <td>0.106055</td>\n",
       "      <td>13.08806</td>\n",
       "    </tr>\n",
       "    <tr>\n",
       "      <th>1</th>\n",
       "      <td>2014-05</td>\n",
       "      <td>41.35</td>\n",
       "      <td>1586.63</td>\n",
       "      <td>0.026062</td>\n",
       "      <td>12.85641</td>\n",
       "    </tr>\n",
       "    <tr>\n",
       "      <th>2</th>\n",
       "      <td>2014-06</td>\n",
       "      <td>67.29</td>\n",
       "      <td>1525.45</td>\n",
       "      <td>0.044112</td>\n",
       "      <td>12.97124</td>\n",
       "    </tr>\n",
       "    <tr>\n",
       "      <th>3</th>\n",
       "      <td>2014-07</td>\n",
       "      <td>41.83</td>\n",
       "      <td>1597.91</td>\n",
       "      <td>0.026178</td>\n",
       "      <td>13.19951</td>\n",
       "    </tr>\n",
       "    <tr>\n",
       "      <th>4</th>\n",
       "      <td>2014-08</td>\n",
       "      <td>53.35</td>\n",
       "      <td>1535.10</td>\n",
       "      <td>0.034753</td>\n",
       "      <td>13.07460</td>\n",
       "    </tr>\n",
       "  </tbody>\n",
       "</table>\n",
       "</div>"
      ],
      "text/plain": [
       "      Date  Total Past Due  Total Net  Past Due Rate  Exhange Rate\n",
       "0  2014-04          156.46    1475.27       0.106055      13.08806\n",
       "1  2014-05           41.35    1586.63       0.026062      12.85641\n",
       "2  2014-06           67.29    1525.45       0.044112      12.97124\n",
       "3  2014-07           41.83    1597.91       0.026178      13.19951\n",
       "4  2014-08           53.35    1535.10       0.034753      13.07460"
      ]
     },
     "execution_count": 19,
     "metadata": {},
     "output_type": "execute_result"
    }
   ],
   "source": [
    "# Merge both DataFrames\n",
    "exc_pastdue_mx_df = exc_pastdue_mx_df.merge(exchange_rate_df)\n",
    "exc_pastdue_mx_df.head()"
   ]
  },
  {
   "cell_type": "code",
   "execution_count": 20,
   "metadata": {},
   "outputs": [
    {
     "name": "stdout",
     "output_type": "stream",
     "text": [
      "The r-squared is: 0.08406676559808876\n"
     ]
    },
    {
     "data": {
      "image/png": "[encoded data removed]",
      "text/plain": [
       "<Figure size 432x288 with 1 Axes>"
      ]
     },
     "metadata": {
      "needs_background": "light"
     },
     "output_type": "display_data"
    }
   ],
   "source": [
    "# Scatter plot\n",
    "x_values = exc_pastdue_mx_df['Exhange Rate']\n",
    "y_values = exc_pastdue_mx_df['Past Due Rate'] * 100\n",
    "\n",
    "(slope, intercept, rvalue, pvalue, stderr) = linregress(x_values, y_values)\n",
    "regress_values = x_values * slope + intercept\n",
    "line_eq = \"y = \" + str(round(slope,2)) + \"x + \" + str(round(intercept,2))\n",
    "print(f\"The r-squared is: {rvalue**2}\")\n",
    "plt.scatter(x_values,y_values, color='cornflowerblue', edgecolors='black')\n",
    "plt.plot(x_values,regress_values,\"r-\")\n",
    "plt.annotate(line_eq, (19, min(y_values)), fontsize=15, color=\"red\")\n",
    "plt.title('Past Due Rate vs. USD to MXN Exchange Rate for Mexico')\n",
    "plt.xlabel('USD to MXN Exchange Rate')\n",
    "plt.ylabel('Past Due Rate (%)')\n",
    "plt.grid()\n",
    "plt.show()"
   ]
  }
 ],
 "metadata": {
  "kernelspec": {
   "display_name": "Python 3",
   "language": "python",
   "name": "python3"
  },
  "language_info": {
   "codemirror_mode": {
    "name": "ipython",
    "version": 3
   },
   "file_extension": ".py",
   "mimetype": "text/x-python",
   "name": "python",
   "nbconvert_exporter": "python",
   "pygments_lexer": "ipython3",
   "version": "3.7.6"
  }
 },
 "nbformat": 4,
 "nbformat_minor": 4
}
