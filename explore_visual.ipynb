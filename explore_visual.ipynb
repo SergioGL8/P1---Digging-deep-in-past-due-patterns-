{
 "cells": [
  {
   "cell_type": "code",
   "execution_count": 15,
   "metadata": {},
   "outputs": [],
   "source": [
    "import os\n",
    "import pandas as pd\n",
    "import matplotlib.pyplot as plt\n",
    "import matplotlib\n",
    "import numpy as np\n",
    "\n",
    "\n",
    "# Merge excel files\n",
    "path = \"datasets/output/data_cleaned.xlsx\"\n",
    "\n",
    "dataset_df = pd.read_excel(path)"
   ]
  },
  {
   "cell_type": "code",
   "execution_count": 16,
   "metadata": {
    "scrolled": false
   },
   "outputs": [
    {
     "data": {
      "text/plain": [
       "CCAN              140236\n",
       "DATE              140236\n",
       "Status            140236\n",
       "TOT NET           140236\n",
       "Net Investment    140236\n",
       "31-60             140236\n",
       "61-90             140236\n",
       "91-120            140236\n",
       "120+              140236\n",
       "Past Due          140236\n",
       "Aging             140236\n",
       "Country           140236\n",
       "dtype: int64"
      ]
     },
     "execution_count": 16,
     "metadata": {},
     "output_type": "execute_result"
    }
   ],
   "source": [
    "dataset_df = dataset_df[['CCAN', 'DATE', 'Status', 'TOT NET', 'Net Investment', '31-60', '61-90', '91-120', '120+', 'Past Due', 'Aging', 'Country']]\n",
    "\n",
    "dataset_df.count()"
   ]
  },
  {
   "cell_type": "code",
   "execution_count": 17,
   "metadata": {},
   "outputs": [
    {
     "data": {
      "text/html": [
       "<div>\n",
       "<style scoped>\n",
       "    .dataframe tbody tr th:only-of-type {\n",
       "        vertical-align: middle;\n",
       "    }\n",
       "\n",
       "    .dataframe tbody tr th {\n",
       "        vertical-align: top;\n",
       "    }\n",
       "\n",
       "    .dataframe thead th {\n",
       "        text-align: right;\n",
       "    }\n",
       "</style>\n",
       "<table border=\"1\" class=\"dataframe\">\n",
       "  <thead>\n",
       "    <tr style=\"text-align: right;\">\n",
       "      <th></th>\n",
       "      <th>CCAN</th>\n",
       "      <th>DATE</th>\n",
       "      <th>Status</th>\n",
       "      <th>TOT NET</th>\n",
       "      <th>Net Investment</th>\n",
       "      <th>31-60</th>\n",
       "      <th>61-90</th>\n",
       "      <th>91-120</th>\n",
       "      <th>120+</th>\n",
       "      <th>Past Due</th>\n",
       "      <th>Aging</th>\n",
       "      <th>Country</th>\n",
       "      <th>Past Due AVG</th>\n",
       "      <th>Past Due AVG MLN</th>\n",
       "      <th>Net Investment AVG</th>\n",
       "      <th>Net Investment AVG MLN</th>\n",
       "      <th>Year</th>\n",
       "    </tr>\n",
       "  </thead>\n",
       "  <tbody>\n",
       "    <tr>\n",
       "      <th>0</th>\n",
       "      <td>320023</td>\n",
       "      <td>2016-01-01</td>\n",
       "      <td>LEGAL</td>\n",
       "      <td>1.534098e+09</td>\n",
       "      <td>15555962.86</td>\n",
       "      <td>0.00</td>\n",
       "      <td>0.00</td>\n",
       "      <td>0.00</td>\n",
       "      <td>15555962.86</td>\n",
       "      <td>15555962.86</td>\n",
       "      <td>120+</td>\n",
       "      <td>MEXICO</td>\n",
       "      <td>204683.72</td>\n",
       "      <td>0.20</td>\n",
       "      <td>204683.72</td>\n",
       "      <td>0.20</td>\n",
       "      <td>2016</td>\n",
       "    </tr>\n",
       "    <tr>\n",
       "      <th>1</th>\n",
       "      <td>315112</td>\n",
       "      <td>2016-01-01</td>\n",
       "      <td>LEGAL</td>\n",
       "      <td>1.534098e+09</td>\n",
       "      <td>3265682.10</td>\n",
       "      <td>0.00</td>\n",
       "      <td>0.00</td>\n",
       "      <td>0.00</td>\n",
       "      <td>3265682.10</td>\n",
       "      <td>3265682.10</td>\n",
       "      <td>120+</td>\n",
       "      <td>MEXICO</td>\n",
       "      <td>42969.50</td>\n",
       "      <td>0.04</td>\n",
       "      <td>42969.50</td>\n",
       "      <td>0.04</td>\n",
       "      <td>2016</td>\n",
       "    </tr>\n",
       "    <tr>\n",
       "      <th>2</th>\n",
       "      <td>309348</td>\n",
       "      <td>2016-01-01</td>\n",
       "      <td>REGULAR</td>\n",
       "      <td>1.534098e+09</td>\n",
       "      <td>3006305.90</td>\n",
       "      <td>0.00</td>\n",
       "      <td>356160.13</td>\n",
       "      <td>1678580.73</td>\n",
       "      <td>971565.04</td>\n",
       "      <td>3006305.90</td>\n",
       "      <td>120+</td>\n",
       "      <td>COSTA RICA</td>\n",
       "      <td>39556.66</td>\n",
       "      <td>0.04</td>\n",
       "      <td>39556.66</td>\n",
       "      <td>0.04</td>\n",
       "      <td>2016</td>\n",
       "    </tr>\n",
       "    <tr>\n",
       "      <th>3</th>\n",
       "      <td>320248</td>\n",
       "      <td>2016-01-01</td>\n",
       "      <td>REGULAR</td>\n",
       "      <td>1.534098e+09</td>\n",
       "      <td>2874745.56</td>\n",
       "      <td>0.00</td>\n",
       "      <td>1191181.78</td>\n",
       "      <td>1683563.78</td>\n",
       "      <td>0.00</td>\n",
       "      <td>2874745.56</td>\n",
       "      <td>91-120</td>\n",
       "      <td>MEXICO</td>\n",
       "      <td>37825.60</td>\n",
       "      <td>0.04</td>\n",
       "      <td>37825.60</td>\n",
       "      <td>0.04</td>\n",
       "      <td>2016</td>\n",
       "    </tr>\n",
       "    <tr>\n",
       "      <th>4</th>\n",
       "      <td>308247</td>\n",
       "      <td>2016-01-01</td>\n",
       "      <td>REGULAR</td>\n",
       "      <td>1.534098e+09</td>\n",
       "      <td>2556572.66</td>\n",
       "      <td>729813.89</td>\n",
       "      <td>0.00</td>\n",
       "      <td>1826758.77</td>\n",
       "      <td>0.00</td>\n",
       "      <td>2556572.66</td>\n",
       "      <td>91-120</td>\n",
       "      <td>GUATEMALA</td>\n",
       "      <td>33639.11</td>\n",
       "      <td>0.03</td>\n",
       "      <td>33639.11</td>\n",
       "      <td>0.03</td>\n",
       "      <td>2016</td>\n",
       "    </tr>\n",
       "  </tbody>\n",
       "</table>\n",
       "</div>"
      ],
      "text/plain": [
       "     CCAN       DATE   Status       TOT NET  Net Investment      31-60  \\\n",
       "0  320023 2016-01-01    LEGAL  1.534098e+09     15555962.86       0.00   \n",
       "1  315112 2016-01-01    LEGAL  1.534098e+09      3265682.10       0.00   \n",
       "2  309348 2016-01-01  REGULAR  1.534098e+09      3006305.90       0.00   \n",
       "3  320248 2016-01-01  REGULAR  1.534098e+09      2874745.56       0.00   \n",
       "4  308247 2016-01-01  REGULAR  1.534098e+09      2556572.66  729813.89   \n",
       "\n",
       "        61-90      91-120         120+     Past Due   Aging     Country  \\\n",
       "0        0.00        0.00  15555962.86  15555962.86    120+      MEXICO   \n",
       "1        0.00        0.00   3265682.10   3265682.10    120+      MEXICO   \n",
       "2   356160.13  1678580.73    971565.04   3006305.90    120+  COSTA RICA   \n",
       "3  1191181.78  1683563.78         0.00   2874745.56  91-120      MEXICO   \n",
       "4        0.00  1826758.77         0.00   2556572.66  91-120   GUATEMALA   \n",
       "\n",
       "   Past Due AVG  Past Due AVG MLN  Net Investment AVG  Net Investment AVG MLN  \\\n",
       "0     204683.72              0.20           204683.72                    0.20   \n",
       "1      42969.50              0.04            42969.50                    0.04   \n",
       "2      39556.66              0.04            39556.66                    0.04   \n",
       "3      37825.60              0.04            37825.60                    0.04   \n",
       "4      33639.11              0.03            33639.11                    0.03   \n",
       "\n",
       "   Year  \n",
       "0  2016  \n",
       "1  2016  \n",
       "2  2016  \n",
       "3  2016  \n",
       "4  2016  "
      ]
     },
     "execution_count": 17,
     "metadata": {},
     "output_type": "execute_result"
    }
   ],
   "source": [
    "# Count number of months as input\n",
    "input_files = os.listdir(\"datasets/input/\")\n",
    "input_count = len(input_files)\n",
    "\n",
    "# Create average per month past due and in millions per month\n",
    "extended_dataset_df = dataset_df\n",
    "extended_dataset_df[\"Past Due AVG\"] = round(extended_dataset_df[\"Past Due\"] / input_count, 2)\n",
    "extended_dataset_df[\"Past Due AVG MLN\"] = round(extended_dataset_df[\"Past Due AVG\"] / 1000000, 2)\n",
    "extended_dataset_df[\"Net Investment AVG\"] = round(extended_dataset_df[\"Net Investment\"] / input_count, 2)\n",
    "extended_dataset_df[\"Net Investment AVG MLN\"] = round(extended_dataset_df[\"Net Investment AVG\"] / 1000000, 2)\n",
    "extended_dataset_df[\"Year\"] = pd.DatetimeIndex(extended_dataset_df['DATE']).year\n",
    "\n",
    "extended_dataset_df.head()"
   ]
  },
  {
   "cell_type": "code",
   "execution_count": 18,
   "metadata": {},
   "outputs": [
    {
     "data": {
      "text/plain": [
       "76"
      ]
     },
     "execution_count": 18,
     "metadata": {},
     "output_type": "execute_result"
    }
   ],
   "source": [
    "input_count"
   ]
  },
  {
   "cell_type": "code",
   "execution_count": 19,
   "metadata": {
    "scrolled": false
   },
   "outputs": [
    {
     "data": {
      "image/png": "[encoded data removed]",
      "text/plain": [
       "<Figure size 432x288 with 1 Axes>"
      ]
     },
     "metadata": {
      "needs_background": "light"
     },
     "output_type": "display_data"
    }
   ],
   "source": [
    "# Calculate average Past Due in million USD per month per country\n",
    "country_count = extended_dataset_df.groupby([\"Country\"])[\"Past Due AVG MLN\"].sum()\n",
    "\n",
    "# Plot bar graph\n",
    "country_count = country_count.sort_values(ascending=False)\n",
    "country_count.plot(kind=\"bar\", facecolor=\"red\")\n",
    "\n",
    "plt.ylabel(\"Past Due (in million USD)\")\n",
    "plt.xlabel(\"Country\")\n",
    "plt.title(\"Average Past Due (in million USD) per Month per Country\")\n",
    "plt.show()"
   ]
  },
  {
   "cell_type": "code",
   "execution_count": 20,
   "metadata": {
    "scrolled": false
   },
   "outputs": [
    {
     "data": {
      "image/png": "[encoded data removed]",
      "text/plain": [
       "<Figure size 432x288 with 1 Axes>"
      ]
     },
     "metadata": {
      "needs_background": "light"
     },
     "output_type": "display_data"
    }
   ],
   "source": [
    "# Get dataset without Mexico\n",
    "ext_dat_nomx_df = extended_dataset_df.loc[(extended_dataset_df[\"Country\"] != 'MEXICO')].dropna()\n",
    "\n",
    "# Calculate average Past Due in USD per month per country\n",
    "country_count2 = ext_dat_nomx_df.groupby([\"Country\"])[\"Past Due AVG MLN\"].sum()\n",
    "country_count2 = country_count2.sort_values(ascending=False)\n",
    "country_count2.plot(kind=\"bar\", facecolor=\"red\")\n",
    "\n",
    "plt.ylabel(\"Past Due (in million USD)\")\n",
    "plt.xlabel(\"Country\")\n",
    "plt.title(\"Average Past Due (in million USD) per Month per Country (without Mexico)\")\n",
    "plt.show()                                        \n",
    "                                          "
   ]
  },
  {
   "cell_type": "code",
   "execution_count": 8,
   "metadata": {},
   "outputs": [
    {
     "data": {
      "text/plain": [
       "6119"
      ]
     },
     "execution_count": 8,
     "metadata": {},
     "output_type": "execute_result"
    }
   ],
   "source": [
    "# Count length of unique customers\n",
    "\n",
    "customers = extended_dataset_df['CCAN']\n",
    "set_cust = set(customers)\n",
    "uni_cust = len(set_cust)\n",
    "\n",
    "uni_cust"
   ]
  },
  {
   "cell_type": "code",
   "execution_count": 9,
   "metadata": {},
   "outputs": [
    {
     "data": {
      "text/plain": [
       "[2016, 2015, 2014, 2017, 2018, 2019, 2020]"
      ]
     },
     "execution_count": 9,
     "metadata": {},
     "output_type": "execute_result"
    }
   ],
   "source": [
    "years = extended_dataset_df[\"Year\"].unique().tolist()\n",
    "\n",
    "years"
   ]
  },
  {
   "cell_type": "code",
   "execution_count": 21,
   "metadata": {
    "scrolled": false
   },
   "outputs": [],
   "source": [
    "def year_overview(yearyear):\n",
    "    year_df = extended_dataset_df.loc[(extended_dataset_df[\"Year\"] == yearyear)].dropna()\n",
    "    # Group by customer\n",
    "    customer_gbdf = year_df.groupby(['CCAN'])\n",
    "    #customer_gbdf = extended_dataset_df.groupby(['CCAN'])\n",
    "\n",
    "    #customer_gbdf = customer_gbdf[['CCAN', 'Net Investment AVG MLN']]\n",
    "\n",
    "    # Past Due Count\n",
    "    cust_pd_count = customer_gbdf['Net Investment AVG MLN'].sum()\n",
    "    cust_country = customer_gbdf['Country'].unique().str[0]\n",
    "\n",
    "    #summary table\n",
    "    sum_cust_pd_df = pd.DataFrame({\n",
    "            \"Net Investment AVG MLN\":cust_pd_count,\n",
    "            \"Country\":cust_country})\n",
    "    sum_cust_pd_df.index.name=\"CCAN\"\n",
    "\n",
    "    sum_cust_pd_df = sum_cust_pd_df.reset_index()\n",
    "    # Filter top four countries out of DF\n",
    "    sum_cust_pd_df = sum_cust_pd_df.loc[((sum_cust_pd_df[\"Country\"] == 'MEXICO') | (sum_cust_pd_df[\"Country\"] == 'VENEZUELA')\n",
    "                                         | (sum_cust_pd_df[\"Country\"] == 'COLOMBIA') | (sum_cust_pd_df[\"Country\"] == 'COSTA RICA')\n",
    "                                        )].dropna()\n",
    "\n",
    "\n",
    "    # get dataframe sorted by life Expectancy in each continent \n",
    "    top_net_inv = sum_cust_pd_df.groupby([\"Country\"]).apply(lambda x: x.sort_values([\"Net Investment AVG MLN\"], ascending = False)).reset_index(drop=True)\n",
    "    # select top N rows within each continent\n",
    "    top_net_inv = top_net_inv.groupby('Country').head(2)\n",
    "    #number = year\n",
    "    \n",
    "    #print(\"Top two NET Investment per country in year: \")\n",
    "    #x = top_net_inv['Country']\n",
    "    #x_value = top_net_inv['CCAN']\n",
    "    #y_value = top_net_inv['Net Investment AVG MLN']\n",
    "    #colour = \n",
    "    #top_net_inv.plot.bar(x_value,y_value, rot=0)\n",
    "    return top_net_inv\n",
    "    "
   ]
  },
  {
   "cell_type": "code",
   "execution_count": 22,
   "metadata": {
    "scrolled": true
   },
   "outputs": [
    {
     "data": {
      "text/html": [
       "<div>\n",
       "<style scoped>\n",
       "    .dataframe tbody tr th:only-of-type {\n",
       "        vertical-align: middle;\n",
       "    }\n",
       "\n",
       "    .dataframe tbody tr th {\n",
       "        vertical-align: top;\n",
       "    }\n",
       "\n",
       "    .dataframe thead th {\n",
       "        text-align: right;\n",
       "    }\n",
       "</style>\n",
       "<table border=\"1\" class=\"dataframe\">\n",
       "  <thead>\n",
       "    <tr style=\"text-align: right;\">\n",
       "      <th></th>\n",
       "      <th>CCAN</th>\n",
       "      <th>Net Investment AVG MLN</th>\n",
       "      <th>Country</th>\n",
       "    </tr>\n",
       "  </thead>\n",
       "  <tbody>\n",
       "    <tr>\n",
       "      <th>0</th>\n",
       "      <td>308653</td>\n",
       "      <td>2.42</td>\n",
       "      <td>COLOMBIA</td>\n",
       "    </tr>\n",
       "    <tr>\n",
       "      <th>1</th>\n",
       "      <td>19746</td>\n",
       "      <td>0.19</td>\n",
       "      <td>COLOMBIA</td>\n",
       "    </tr>\n",
       "    <tr>\n",
       "      <th>126</th>\n",
       "      <td>314798</td>\n",
       "      <td>3.96</td>\n",
       "      <td>COSTA RICA</td>\n",
       "    </tr>\n",
       "    <tr>\n",
       "      <th>127</th>\n",
       "      <td>314376</td>\n",
       "      <td>1.60</td>\n",
       "      <td>COSTA RICA</td>\n",
       "    </tr>\n",
       "    <tr>\n",
       "      <th>302</th>\n",
       "      <td>316076</td>\n",
       "      <td>10.88</td>\n",
       "      <td>MEXICO</td>\n",
       "    </tr>\n",
       "    <tr>\n",
       "      <th>303</th>\n",
       "      <td>309306</td>\n",
       "      <td>10.46</td>\n",
       "      <td>MEXICO</td>\n",
       "    </tr>\n",
       "    <tr>\n",
       "      <th>1418</th>\n",
       "      <td>317746</td>\n",
       "      <td>10.72</td>\n",
       "      <td>VENEZUELA</td>\n",
       "    </tr>\n",
       "  </tbody>\n",
       "</table>\n",
       "</div>"
      ],
      "text/plain": [
       "        CCAN  Net Investment AVG MLN     Country\n",
       "0     308653                    2.42    COLOMBIA\n",
       "1      19746                    0.19    COLOMBIA\n",
       "126   314798                    3.96  COSTA RICA\n",
       "127   314376                    1.60  COSTA RICA\n",
       "302   316076                   10.88      MEXICO\n",
       "303   309306                   10.46      MEXICO\n",
       "1418  317746                   10.72   VENEZUELA"
      ]
     },
     "execution_count": 22,
     "metadata": {},
     "output_type": "execute_result"
    }
   ],
   "source": [
    "year_overview(2014)\n"
   ]
  },
  {
   "cell_type": "code",
   "execution_count": 23,
   "metadata": {
    "scrolled": true
   },
   "outputs": [
    {
     "data": {
      "text/html": [
       "<div>\n",
       "<style scoped>\n",
       "    .dataframe tbody tr th:only-of-type {\n",
       "        vertical-align: middle;\n",
       "    }\n",
       "\n",
       "    .dataframe tbody tr th {\n",
       "        vertical-align: top;\n",
       "    }\n",
       "\n",
       "    .dataframe thead th {\n",
       "        text-align: right;\n",
       "    }\n",
       "</style>\n",
       "<table border=\"1\" class=\"dataframe\">\n",
       "  <thead>\n",
       "    <tr style=\"text-align: right;\">\n",
       "      <th></th>\n",
       "      <th>CCAN</th>\n",
       "      <th>Net Investment AVG MLN</th>\n",
       "      <th>Country</th>\n",
       "    </tr>\n",
       "  </thead>\n",
       "  <tbody>\n",
       "    <tr>\n",
       "      <th>0</th>\n",
       "      <td>308653</td>\n",
       "      <td>2.42</td>\n",
       "      <td>COLOMBIA</td>\n",
       "    </tr>\n",
       "    <tr>\n",
       "      <th>1</th>\n",
       "      <td>19762</td>\n",
       "      <td>0.35</td>\n",
       "      <td>COLOMBIA</td>\n",
       "    </tr>\n",
       "    <tr>\n",
       "      <th>196</th>\n",
       "      <td>314798</td>\n",
       "      <td>4.96</td>\n",
       "      <td>COSTA RICA</td>\n",
       "    </tr>\n",
       "    <tr>\n",
       "      <th>197</th>\n",
       "      <td>314376</td>\n",
       "      <td>2.42</td>\n",
       "      <td>COSTA RICA</td>\n",
       "    </tr>\n",
       "    <tr>\n",
       "      <th>386</th>\n",
       "      <td>309306</td>\n",
       "      <td>16.55</td>\n",
       "      <td>MEXICO</td>\n",
       "    </tr>\n",
       "    <tr>\n",
       "      <th>387</th>\n",
       "      <td>312097</td>\n",
       "      <td>13.72</td>\n",
       "      <td>MEXICO</td>\n",
       "    </tr>\n",
       "    <tr>\n",
       "      <th>1608</th>\n",
       "      <td>317746</td>\n",
       "      <td>12.62</td>\n",
       "      <td>VENEZUELA</td>\n",
       "    </tr>\n",
       "  </tbody>\n",
       "</table>\n",
       "</div>"
      ],
      "text/plain": [
       "        CCAN  Net Investment AVG MLN     Country\n",
       "0     308653                    2.42    COLOMBIA\n",
       "1      19762                    0.35    COLOMBIA\n",
       "196   314798                    4.96  COSTA RICA\n",
       "197   314376                    2.42  COSTA RICA\n",
       "386   309306                   16.55      MEXICO\n",
       "387   312097                   13.72      MEXICO\n",
       "1608  317746                   12.62   VENEZUELA"
      ]
     },
     "execution_count": 23,
     "metadata": {},
     "output_type": "execute_result"
    }
   ],
   "source": [
    "year_overview(2015)"
   ]
  },
  {
   "cell_type": "code",
   "execution_count": 24,
   "metadata": {
    "scrolled": false
   },
   "outputs": [
    {
     "data": {
      "text/html": [
       "<div>\n",
       "<style scoped>\n",
       "    .dataframe tbody tr th:only-of-type {\n",
       "        vertical-align: middle;\n",
       "    }\n",
       "\n",
       "    .dataframe tbody tr th {\n",
       "        vertical-align: top;\n",
       "    }\n",
       "\n",
       "    .dataframe thead th {\n",
       "        text-align: right;\n",
       "    }\n",
       "</style>\n",
       "<table border=\"1\" class=\"dataframe\">\n",
       "  <thead>\n",
       "    <tr style=\"text-align: right;\">\n",
       "      <th></th>\n",
       "      <th>CCAN</th>\n",
       "      <th>Net Investment AVG MLN</th>\n",
       "      <th>Country</th>\n",
       "    </tr>\n",
       "  </thead>\n",
       "  <tbody>\n",
       "    <tr>\n",
       "      <th>0</th>\n",
       "      <td>357314</td>\n",
       "      <td>0.96</td>\n",
       "      <td>COLOMBIA</td>\n",
       "    </tr>\n",
       "    <tr>\n",
       "      <th>1</th>\n",
       "      <td>19793</td>\n",
       "      <td>0.46</td>\n",
       "      <td>COLOMBIA</td>\n",
       "    </tr>\n",
       "    <tr>\n",
       "      <th>270</th>\n",
       "      <td>314798</td>\n",
       "      <td>7.56</td>\n",
       "      <td>COSTA RICA</td>\n",
       "    </tr>\n",
       "    <tr>\n",
       "      <th>271</th>\n",
       "      <td>314376</td>\n",
       "      <td>4.21</td>\n",
       "      <td>COSTA RICA</td>\n",
       "    </tr>\n",
       "    <tr>\n",
       "      <th>474</th>\n",
       "      <td>309306</td>\n",
       "      <td>23.16</td>\n",
       "      <td>MEXICO</td>\n",
       "    </tr>\n",
       "    <tr>\n",
       "      <th>475</th>\n",
       "      <td>316076</td>\n",
       "      <td>7.87</td>\n",
       "      <td>MEXICO</td>\n",
       "    </tr>\n",
       "    <tr>\n",
       "      <th>1684</th>\n",
       "      <td>317746</td>\n",
       "      <td>16.00</td>\n",
       "      <td>VENEZUELA</td>\n",
       "    </tr>\n",
       "  </tbody>\n",
       "</table>\n",
       "</div>"
      ],
      "text/plain": [
       "        CCAN  Net Investment AVG MLN     Country\n",
       "0     357314                    0.96    COLOMBIA\n",
       "1      19793                    0.46    COLOMBIA\n",
       "270   314798                    7.56  COSTA RICA\n",
       "271   314376                    4.21  COSTA RICA\n",
       "474   309306                   23.16      MEXICO\n",
       "475   316076                    7.87      MEXICO\n",
       "1684  317746                   16.00   VENEZUELA"
      ]
     },
     "execution_count": 24,
     "metadata": {},
     "output_type": "execute_result"
    }
   ],
   "source": [
    "year_overview(2016)"
   ]
  },
  {
   "cell_type": "code",
   "execution_count": 25,
   "metadata": {
    "scrolled": true
   },
   "outputs": [
    {
     "data": {
      "text/html": [
       "<div>\n",
       "<style scoped>\n",
       "    .dataframe tbody tr th:only-of-type {\n",
       "        vertical-align: middle;\n",
       "    }\n",
       "\n",
       "    .dataframe tbody tr th {\n",
       "        vertical-align: top;\n",
       "    }\n",
       "\n",
       "    .dataframe thead th {\n",
       "        text-align: right;\n",
       "    }\n",
       "</style>\n",
       "<table border=\"1\" class=\"dataframe\">\n",
       "  <thead>\n",
       "    <tr style=\"text-align: right;\">\n",
       "      <th></th>\n",
       "      <th>CCAN</th>\n",
       "      <th>Net Investment AVG MLN</th>\n",
       "      <th>Country</th>\n",
       "    </tr>\n",
       "  </thead>\n",
       "  <tbody>\n",
       "    <tr>\n",
       "      <th>0</th>\n",
       "      <td>357314</td>\n",
       "      <td>0.80</td>\n",
       "      <td>COLOMBIA</td>\n",
       "    </tr>\n",
       "    <tr>\n",
       "      <th>1</th>\n",
       "      <td>8914</td>\n",
       "      <td>0.79</td>\n",
       "      <td>COLOMBIA</td>\n",
       "    </tr>\n",
       "    <tr>\n",
       "      <th>344</th>\n",
       "      <td>314798</td>\n",
       "      <td>5.85</td>\n",
       "      <td>COSTA RICA</td>\n",
       "    </tr>\n",
       "    <tr>\n",
       "      <th>345</th>\n",
       "      <td>314376</td>\n",
       "      <td>4.14</td>\n",
       "      <td>COSTA RICA</td>\n",
       "    </tr>\n",
       "    <tr>\n",
       "      <th>790</th>\n",
       "      <td>309306</td>\n",
       "      <td>31.47</td>\n",
       "      <td>MEXICO</td>\n",
       "    </tr>\n",
       "    <tr>\n",
       "      <th>791</th>\n",
       "      <td>309306</td>\n",
       "      <td>6.84</td>\n",
       "      <td>MEXICO</td>\n",
       "    </tr>\n",
       "    <tr>\n",
       "      <th>2755</th>\n",
       "      <td>317746</td>\n",
       "      <td>11.51</td>\n",
       "      <td>VENEZUELA</td>\n",
       "    </tr>\n",
       "    <tr>\n",
       "      <th>2756</th>\n",
       "      <td>R-82</td>\n",
       "      <td>1.35</td>\n",
       "      <td>VENEZUELA</td>\n",
       "    </tr>\n",
       "  </tbody>\n",
       "</table>\n",
       "</div>"
      ],
      "text/plain": [
       "        CCAN  Net Investment AVG MLN     Country\n",
       "0     357314                    0.80    COLOMBIA\n",
       "1       8914                    0.79    COLOMBIA\n",
       "344   314798                    5.85  COSTA RICA\n",
       "345   314376                    4.14  COSTA RICA\n",
       "790   309306                   31.47      MEXICO\n",
       "791   309306                    6.84      MEXICO\n",
       "2755  317746                   11.51   VENEZUELA\n",
       "2756    R-82                    1.35   VENEZUELA"
      ]
     },
     "execution_count": 25,
     "metadata": {},
     "output_type": "execute_result"
    }
   ],
   "source": [
    "year_overview(2017)"
   ]
  },
  {
   "cell_type": "code",
   "execution_count": null,
   "metadata": {},
   "outputs": [],
   "source": []
  }
 ],
 "metadata": {
  "kernelspec": {
   "display_name": "Python 3",
   "language": "python",
   "name": "python3"
  },
  "language_info": {
   "codemirror_mode": {
    "name": "ipython",
    "version": 3
   },
   "file_extension": ".py",
   "mimetype": "text/x-python",
   "name": "python",
   "nbconvert_exporter": "python",
   "pygments_lexer": "ipython3",
   "version": "3.8.3"
  }
 },
 "nbformat": 4,
 "nbformat_minor": 4
}
